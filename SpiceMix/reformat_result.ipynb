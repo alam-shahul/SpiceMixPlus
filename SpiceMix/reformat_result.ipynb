{
 "cells": [
  {
   "cell_type": "code",
   "execution_count": 87,
   "id": "middle-luxury",
   "metadata": {},
   "outputs": [],
   "source": [
    "import h5py\n",
    "from util import *"
   ]
  },
  {
   "cell_type": "code",
   "execution_count": 109,
   "id": "deadly-repair",
   "metadata": {},
   "outputs": [
    {
     "name": "stdout",
     "output_type": "stream",
     "text": [
      "dict_keys(['K', 'betas', 'lambda_SigmaXInv', 'lambda_x', 'prior_x_modes', 'repli_list'])\n"
     ]
    }
   ],
   "source": [
    "old_data = load_dict_from_hdf5(\"../../STARmap_2018/previous_runs/old_format/NMF_K15_rs0.h5\")\n",
    "print(old_data[\"hyperparameters\"].keys())"
   ]
  },
  {
   "cell_type": "code",
   "execution_count": 89,
   "id": "olympic-techno",
   "metadata": {},
   "outputs": [
    {
     "name": "stdout",
     "output_type": "stream",
     "text": [
      "<KeysViewHDF5 ['dataset', 'hyperparameters', 'parameters', 'progress', 'weights']>\n"
     ]
    }
   ],
   "source": [
    "with h5py.File(\"../../data/synthetic_metagene_free_cortex/500_cells_100_genes_separate_low_variance_low_covariance/results_with_spatial_low_lambda.hdf5\", 'r') as h5file:\n",
    "    print(h5file.keys())"
   ]
  },
  {
   "cell_type": "code",
   "execution_count": 90,
   "id": "polish-impression",
   "metadata": {
    "scrolled": true
   },
   "outputs": [],
   "source": [
    "dataset = load_dict_from_hdf5(\"../../data/synthetic_metagene_free_cortex/500_cells_100_genes_separate_low_variance_low_covariance/results_with_spatial_low_lambda.hdf5\")"
   ]
  },
  {
   "cell_type": "code",
   "execution_count": 91,
   "id": "industrial-nurse",
   "metadata": {},
   "outputs": [
    {
     "data": {
      "text/plain": [
       "dict_keys(['M', 'prior_x_parameter', 'sigma_x_inverse', 'sigma_yx_inverses'])"
      ]
     },
     "execution_count": 91,
     "metadata": {},
     "output_type": "execute_result"
    }
   ],
   "source": [
    "dataset[\"parameters\"].keys()"
   ]
  },
  {
   "cell_type": "code",
   "execution_count": 110,
   "id": "enclosed-brisbane",
   "metadata": {},
   "outputs": [],
   "source": [
    "def reformat_result(old_filepath, sister_filepath, new_filepath):\n",
    "    \"\"\"Reformat SpiceMix result to be compatible with new Result implementation.\n",
    "    \n",
    "    Args:\n",
    "        old_filepath: path to SpiceMix result in old format\n",
    "        sister_filepath: path to SpiceMix result from same dataset in new path\n",
    "        new_filepath: output filepath for new SpiceMix result\n",
    "    \"\"\"\n",
    "    \n",
    "    old_data = load_dict_from_hdf5(old_filepath)\n",
    "    dataset = load_dict_from_hdf5(sister_filepath)[\"dataset\"]\n",
    "    new_data = {}\n",
    "    \n",
    "    hyperparameters = old_data[\"hyperparameters\"]\n",
    "    repli_list = [repli.decode(\"utf-8\") for repli in hyperparameters[\"repli_list\"]]\n",
    "\n",
    "    replicate_mapping = {\n",
    "        replicate_name: str(replicate_index) for replicate_index, replicate_name in enumerate(repli_list)\n",
    "    }\n",
    "    \n",
    "    del hyperparameters[\"repli_list\"]\n",
    "    \n",
    "    def remap(dictionary, mapping):\n",
    "        new_dictionary = {}\n",
    "        for key in dictionary:\n",
    "            new_key = mapping[key]\n",
    "            new_dictionary[new_key] = dictionary[key]\n",
    "            \n",
    "        return new_dictionary\n",
    "    \n",
    "    hyperparameters[\"lambda_sigma_x_inverse\"] = hyperparameters[\"lambda_SigmaXInv\"]\n",
    "    hyperparameters[\"prior_x_modes\"] = remap(hyperparameters[\"prior_x_modes\"], replicate_mapping)\n",
    "    del hyperparameters[\"lambda_SigmaXInv\"]\n",
    "\n",
    "    parameters = old_data[\"parameters\"]\n",
    "    parameters[\"sigma_x_inverse\"] = old_data[\"parameters\"][\"Sigma_x_inv\"]\n",
    "    parameters[\"prior_x_parameter\"] = remap(old_data[\"parameters\"][\"prior_xs\"], replicate_mapping)\n",
    "    parameters[\"sigma_yx_inverses\"] = remap(old_data[\"parameters\"][\"sigma_yx_invs\"], replicate_mapping)\n",
    "    del parameters[\"Sigma_x_inv\"]\n",
    "    del parameters[\"prior_xs\"]\n",
    "    del parameters[\"sigma_yx_invs\"]\n",
    "\n",
    "    new_data[\"hyperparameters\"] = hyperparameters\n",
    "    new_data[\"weights\"] = remap(old_data[\"latent_states\"][\"XT\"], replicate_mapping)\n",
    "    new_data[\"progress\"] = old_data[\"progress\"]\n",
    "    new_data[\"dataset\"] = dataset\n",
    "    new_data[\"parameters\"] = parameters\n",
    "    \n",
    "    save_dict_to_hdf5(new_filepath, new_data)"
   ]
  },
  {
   "cell_type": "code",
   "execution_count": 111,
   "id": "exterior-boring",
   "metadata": {},
   "outputs": [],
   "source": [
    "# Reform SeqFISHPlus runs\n",
    "sister_filepath = \"../../SeqFISHPlus/results_with_spatial_low_lambda.hdf5\"\n",
    "for method in [\"NMF_K20\", \"SpiceMix_K20\"]:\n",
    "    for random_seed in range(5):\n",
    "        old_filepath = f\"../../SeqFISHPlus/previous_runs/old_format/{method}_niter500_rs{random_seed}.h5\"\n",
    "        new_filepath = f\"../../SeqFISHPlus/previous_runs/new_format/{method}_random_seed_{random_seed}.hdf5\"\n",
    "        reformat_result(old_filepath, sister_filepath, new_filepath)"
   ]
  },
  {
   "cell_type": "code",
   "execution_count": 112,
   "id": "minute-karma",
   "metadata": {},
   "outputs": [],
   "source": [
    "# Reform STARmap_2018 runs\n",
    "sister_filepath = \"../../STARmap_2018/results_with_spatial.hdf5\"\n",
    "for method in [\"NMF_K15\", \"SpiceMix_K20\"]:\n",
    "    for random_seed in range(5):\n",
    "        old_filepath = f\"../../STARmap_2018/previous_runs/old_format/{method}_rs{random_seed}.h5\"\n",
    "        new_filepath = f\"../../STARmap_2018/previous_runs/new_format/{method}_random_seed_{random_seed}.hdf5\"\n",
    "        reformat_result(old_filepath, sister_filepath, new_filepath)"
   ]
  },
  {
   "cell_type": "code",
   "execution_count": 76,
   "id": "incorporated-robertson",
   "metadata": {},
   "outputs": [],
   "source": [
    "new_data = load_dict_from_hdf5(\"../../SeqFISHPlus/previous_runs/new_format/SpiceMix_K20_random_seed_0.hdf5\")"
   ]
  },
  {
   "cell_type": "code",
   "execution_count": 80,
   "id": "informational-penetration",
   "metadata": {},
   "outputs": [
    {
     "data": {
      "text/plain": [
       "{'K': 20,\n",
       " 'betas': array([0.2, 0.2, 0.2, 0.2, 0.2]),\n",
       " 'lambda_sigma_x_inverse': 0.0001,\n",
       " 'prior_x_modes': {'0': b'Exponential shared fixed',\n",
       "  '1': b'Exponential shared fixed',\n",
       "  '2': b'Exponential shared fixed',\n",
       "  '3': b'Exponential shared fixed',\n",
       "  '4': b'Exponential shared fixed'}}"
      ]
     },
     "execution_count": 80,
     "metadata": {},
     "output_type": "execute_result"
    }
   ],
   "source": [
    "new_data[\"hyperparameters\"]"
   ]
  }
 ],
 "metadata": {
  "kernelspec": {
   "display_name": "Python 3",
   "language": "python",
   "name": "python3"
  },
  "language_info": {
   "codemirror_mode": {
    "name": "ipython",
    "version": 3
   },
   "file_extension": ".py",
   "mimetype": "text/x-python",
   "name": "python",
   "nbconvert_exporter": "python",
   "pygments_lexer": "ipython3",
   "version": "3.7.10"
  }
 },
 "nbformat": 4,
 "nbformat_minor": 5
}
