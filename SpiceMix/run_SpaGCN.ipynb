{
 "cells": [
  {
   "cell_type": "code",
   "execution_count": 1,
   "id": "f12eaf32",
   "metadata": {},
   "outputs": [],
   "source": [
    "import numpy as np\n",
    "import scanpy as sc\n",
    "import torch\n",
    "import random\n",
    "import pandas as pd\n",
    "import SpaGCN as spg\n",
    "\n",
    "from sklearn.metrics import adjusted_rand_score\n",
    "import matplotlib.pyplot as plt\n",
    "from matplotlib.colors import LinearSegmentedColormap"
   ]
  },
  {
   "cell_type": "code",
   "execution_count": 2,
   "id": "0ed25bbd",
   "metadata": {},
   "outputs": [],
   "source": [
    "from anndata import AnnData"
   ]
  },
  {
   "cell_type": "code",
   "execution_count": 3,
   "id": "c65767f0",
   "metadata": {},
   "outputs": [],
   "source": [
    "bayes_space_results = pd.read_csv(\"../BayesSpace_comparison/BayesSpace_clustering_results.csv\", index_col=0, header=0)"
   ]
  },
  {
   "cell_type": "code",
   "execution_count": 4,
   "id": "fab5f7bf",
   "metadata": {},
   "outputs": [],
   "source": [
    "coordinates = np.loadtxt(\"../data/SpaGCN_spatialLIBD/files/coordinates_151673.txt\")\n",
    "labels = np.loadtxt(\"../data/SpaGCN_spatialLIBD/files/labels_151673.txt\", dtype=\"str\")\n",
    "x, y = coordinates.T"
   ]
  },
  {
   "cell_type": "code",
   "execution_count": 5,
   "id": "a1fd96ad",
   "metadata": {},
   "outputs": [
    {
     "name": "stdout",
     "output_type": "stream",
     "text": [
      "Calculateing adj matrix using xy only...\n"
     ]
    }
   ],
   "source": [
    "adjacency_matrix = spg.calculate_adj_matrix(x=x, y=y, histology=False)"
   ]
  },
  {
   "cell_type": "code",
   "execution_count": 6,
   "id": "45e1593c",
   "metadata": {
    "scrolled": false
   },
   "outputs": [
    {
     "data": {
      "text/plain": [
       "0.5387814751043232"
      ]
     },
     "execution_count": 6,
     "metadata": {},
     "output_type": "execute_result"
    }
   ],
   "source": [
    "adjusted_rand_score(bayes_space_results[\"x\"].values, labels)"
   ]
  },
  {
   "cell_type": "markdown",
   "id": "809236a0",
   "metadata": {},
   "source": [
    "## Refined clustering for BayesSpace (loop the below 2 cells)"
   ]
  },
  {
   "cell_type": "code",
   "execution_count": 7,
   "id": "fe762d62",
   "metadata": {},
   "outputs": [
    {
     "ename": "KeyError",
     "evalue": "'refined_x'",
     "output_type": "error",
     "traceback": [
      "\u001b[0;31m---------------------------------------------------------------------------\u001b[0m",
      "\u001b[0;31mKeyError\u001b[0m                                  Traceback (most recent call last)",
      "\u001b[0;32m~/bin/miniconda3/envs/multimodal/lib/python3.8/site-packages/pandas/core/indexes/base.py\u001b[0m in \u001b[0;36mget_loc\u001b[0;34m(self, key, method, tolerance)\u001b[0m\n\u001b[1;32m   3360\u001b[0m             \u001b[0;32mtry\u001b[0m\u001b[0;34m:\u001b[0m\u001b[0;34m\u001b[0m\u001b[0;34m\u001b[0m\u001b[0m\n\u001b[0;32m-> 3361\u001b[0;31m                 \u001b[0;32mreturn\u001b[0m \u001b[0mself\u001b[0m\u001b[0;34m.\u001b[0m\u001b[0m_engine\u001b[0m\u001b[0;34m.\u001b[0m\u001b[0mget_loc\u001b[0m\u001b[0;34m(\u001b[0m\u001b[0mcasted_key\u001b[0m\u001b[0;34m)\u001b[0m\u001b[0;34m\u001b[0m\u001b[0;34m\u001b[0m\u001b[0m\n\u001b[0m\u001b[1;32m   3362\u001b[0m             \u001b[0;32mexcept\u001b[0m \u001b[0mKeyError\u001b[0m \u001b[0;32mas\u001b[0m \u001b[0merr\u001b[0m\u001b[0;34m:\u001b[0m\u001b[0;34m\u001b[0m\u001b[0;34m\u001b[0m\u001b[0m\n",
      "\u001b[0;32m~/bin/miniconda3/envs/multimodal/lib/python3.8/site-packages/pandas/_libs/index.pyx\u001b[0m in \u001b[0;36mpandas._libs.index.IndexEngine.get_loc\u001b[0;34m()\u001b[0m\n",
      "\u001b[0;32m~/bin/miniconda3/envs/multimodal/lib/python3.8/site-packages/pandas/_libs/index.pyx\u001b[0m in \u001b[0;36mpandas._libs.index.IndexEngine.get_loc\u001b[0;34m()\u001b[0m\n",
      "\u001b[0;32mpandas/_libs/hashtable_class_helper.pxi\u001b[0m in \u001b[0;36mpandas._libs.hashtable.PyObjectHashTable.get_item\u001b[0;34m()\u001b[0m\n",
      "\u001b[0;32mpandas/_libs/hashtable_class_helper.pxi\u001b[0m in \u001b[0;36mpandas._libs.hashtable.PyObjectHashTable.get_item\u001b[0;34m()\u001b[0m\n",
      "\u001b[0;31mKeyError\u001b[0m: 'refined_x'",
      "\nThe above exception was the direct cause of the following exception:\n",
      "\u001b[0;31mKeyError\u001b[0m                                  Traceback (most recent call last)",
      "\u001b[0;32m<ipython-input-7-88521314aae8>\u001b[0m in \u001b[0;36m<module>\u001b[0;34m\u001b[0m\n\u001b[0;32m----> 1\u001b[0;31m \u001b[0mrefined_bayes_space\u001b[0m \u001b[0;34m=\u001b[0m \u001b[0mspg\u001b[0m\u001b[0;34m.\u001b[0m\u001b[0mrefine\u001b[0m\u001b[0;34m(\u001b[0m\u001b[0msample_id\u001b[0m\u001b[0;34m=\u001b[0m\u001b[0mbayes_space_results\u001b[0m\u001b[0;34m.\u001b[0m\u001b[0mindex\u001b[0m\u001b[0;34m.\u001b[0m\u001b[0mtolist\u001b[0m\u001b[0;34m(\u001b[0m\u001b[0;34m)\u001b[0m\u001b[0;34m,\u001b[0m \u001b[0mpred\u001b[0m\u001b[0;34m=\u001b[0m\u001b[0mbayes_space_results\u001b[0m\u001b[0;34m[\u001b[0m\u001b[0;34m\"refined_x\"\u001b[0m\u001b[0;34m]\u001b[0m\u001b[0;34m.\u001b[0m\u001b[0mtolist\u001b[0m\u001b[0;34m(\u001b[0m\u001b[0;34m)\u001b[0m\u001b[0;34m,\u001b[0m \u001b[0mdis\u001b[0m\u001b[0;34m=\u001b[0m\u001b[0madjacency_matrix\u001b[0m\u001b[0;34m,\u001b[0m \u001b[0mshape\u001b[0m\u001b[0;34m=\u001b[0m\u001b[0;34m\"hexagon\"\u001b[0m\u001b[0;34m)\u001b[0m\u001b[0;34m\u001b[0m\u001b[0;34m\u001b[0m\u001b[0m\n\u001b[0m\u001b[1;32m      2\u001b[0m \u001b[0mbayes_space_results\u001b[0m\u001b[0;34m[\u001b[0m\u001b[0;34m\"refined_x\"\u001b[0m\u001b[0;34m]\u001b[0m \u001b[0;34m=\u001b[0m \u001b[0mrefined_bayes_space\u001b[0m\u001b[0;34m\u001b[0m\u001b[0;34m\u001b[0m\u001b[0m\n",
      "\u001b[0;32m~/bin/miniconda3/envs/multimodal/lib/python3.8/site-packages/pandas/core/frame.py\u001b[0m in \u001b[0;36m__getitem__\u001b[0;34m(self, key)\u001b[0m\n\u001b[1;32m   3453\u001b[0m             \u001b[0;32mif\u001b[0m \u001b[0mself\u001b[0m\u001b[0;34m.\u001b[0m\u001b[0mcolumns\u001b[0m\u001b[0;34m.\u001b[0m\u001b[0mnlevels\u001b[0m \u001b[0;34m>\u001b[0m \u001b[0;36m1\u001b[0m\u001b[0;34m:\u001b[0m\u001b[0;34m\u001b[0m\u001b[0;34m\u001b[0m\u001b[0m\n\u001b[1;32m   3454\u001b[0m                 \u001b[0;32mreturn\u001b[0m \u001b[0mself\u001b[0m\u001b[0;34m.\u001b[0m\u001b[0m_getitem_multilevel\u001b[0m\u001b[0;34m(\u001b[0m\u001b[0mkey\u001b[0m\u001b[0;34m)\u001b[0m\u001b[0;34m\u001b[0m\u001b[0;34m\u001b[0m\u001b[0m\n\u001b[0;32m-> 3455\u001b[0;31m             \u001b[0mindexer\u001b[0m \u001b[0;34m=\u001b[0m \u001b[0mself\u001b[0m\u001b[0;34m.\u001b[0m\u001b[0mcolumns\u001b[0m\u001b[0;34m.\u001b[0m\u001b[0mget_loc\u001b[0m\u001b[0;34m(\u001b[0m\u001b[0mkey\u001b[0m\u001b[0;34m)\u001b[0m\u001b[0;34m\u001b[0m\u001b[0;34m\u001b[0m\u001b[0m\n\u001b[0m\u001b[1;32m   3456\u001b[0m             \u001b[0;32mif\u001b[0m \u001b[0mis_integer\u001b[0m\u001b[0;34m(\u001b[0m\u001b[0mindexer\u001b[0m\u001b[0;34m)\u001b[0m\u001b[0;34m:\u001b[0m\u001b[0;34m\u001b[0m\u001b[0;34m\u001b[0m\u001b[0m\n\u001b[1;32m   3457\u001b[0m                 \u001b[0mindexer\u001b[0m \u001b[0;34m=\u001b[0m \u001b[0;34m[\u001b[0m\u001b[0mindexer\u001b[0m\u001b[0;34m]\u001b[0m\u001b[0;34m\u001b[0m\u001b[0;34m\u001b[0m\u001b[0m\n",
      "\u001b[0;32m~/bin/miniconda3/envs/multimodal/lib/python3.8/site-packages/pandas/core/indexes/base.py\u001b[0m in \u001b[0;36mget_loc\u001b[0;34m(self, key, method, tolerance)\u001b[0m\n\u001b[1;32m   3361\u001b[0m                 \u001b[0;32mreturn\u001b[0m \u001b[0mself\u001b[0m\u001b[0;34m.\u001b[0m\u001b[0m_engine\u001b[0m\u001b[0;34m.\u001b[0m\u001b[0mget_loc\u001b[0m\u001b[0;34m(\u001b[0m\u001b[0mcasted_key\u001b[0m\u001b[0;34m)\u001b[0m\u001b[0;34m\u001b[0m\u001b[0;34m\u001b[0m\u001b[0m\n\u001b[1;32m   3362\u001b[0m             \u001b[0;32mexcept\u001b[0m \u001b[0mKeyError\u001b[0m \u001b[0;32mas\u001b[0m \u001b[0merr\u001b[0m\u001b[0;34m:\u001b[0m\u001b[0;34m\u001b[0m\u001b[0;34m\u001b[0m\u001b[0m\n\u001b[0;32m-> 3363\u001b[0;31m                 \u001b[0;32mraise\u001b[0m \u001b[0mKeyError\u001b[0m\u001b[0;34m(\u001b[0m\u001b[0mkey\u001b[0m\u001b[0;34m)\u001b[0m \u001b[0;32mfrom\u001b[0m \u001b[0merr\u001b[0m\u001b[0;34m\u001b[0m\u001b[0;34m\u001b[0m\u001b[0m\n\u001b[0m\u001b[1;32m   3364\u001b[0m \u001b[0;34m\u001b[0m\u001b[0m\n\u001b[1;32m   3365\u001b[0m         \u001b[0;32mif\u001b[0m \u001b[0mis_scalar\u001b[0m\u001b[0;34m(\u001b[0m\u001b[0mkey\u001b[0m\u001b[0;34m)\u001b[0m \u001b[0;32mand\u001b[0m \u001b[0misna\u001b[0m\u001b[0;34m(\u001b[0m\u001b[0mkey\u001b[0m\u001b[0;34m)\u001b[0m \u001b[0;32mand\u001b[0m \u001b[0;32mnot\u001b[0m \u001b[0mself\u001b[0m\u001b[0;34m.\u001b[0m\u001b[0mhasnans\u001b[0m\u001b[0;34m:\u001b[0m\u001b[0;34m\u001b[0m\u001b[0;34m\u001b[0m\u001b[0m\n",
      "\u001b[0;31mKeyError\u001b[0m: 'refined_x'"
     ]
    }
   ],
   "source": [
    "refined_bayes_space = spg.refine(sample_id=bayes_space_results.index.tolist(), pred=bayes_space_results[\"refined_x\"].tolist(), dis=adjacency_matrix, shape=\"hexagon\")\n",
    "bayes_space_results[\"refined_x\"] = refined_bayes_space"
   ]
  },
  {
   "cell_type": "code",
   "execution_count": null,
   "id": "dec2b5fb",
   "metadata": {
    "scrolled": true
   },
   "outputs": [],
   "source": [
    "adjusted_rand_score(bayes_space_results[\"refined_x\"].values, labels)"
   ]
  },
  {
   "cell_type": "markdown",
   "id": "0f23853f",
   "metadata": {},
   "source": [
    "## SpaGCN Setup"
   ]
  },
  {
   "cell_type": "code",
   "execution_count": 8,
   "id": "68377817",
   "metadata": {},
   "outputs": [],
   "source": [
    "# https://github.com/jianhuupenn/SpaGCN/blob/359a0c56e5b78d2460ac5636223da38f662c14c5/SpaGCN_package/SpaGCN/util.py#L59\n",
    "def search_l(p, adj, start=0.01, end=1000, tol=0.01, max_run=100):\n",
    "    run=0\n",
    "    p_low=calculate_p(adj, start)\n",
    "    p_high=calculate_p(adj, end)\n",
    "    if p_low>p+tol:\n",
    "        print(\"l not found, try smaller start point.\")\n",
    "        return None\n",
    "    elif p_high<p-tol:\n",
    "        print(\"l not found, try bigger end point.\")\n",
    "        return None\n",
    "    elif  np.abs(p_low-p) <=tol:\n",
    "        print(\"recommended l = \", str(start))\n",
    "        return start\n",
    "    elif  np.abs(p_high-p) <=tol:\n",
    "        print(\"recommended l = \", str(end))\n",
    "        return end\n",
    "    while (p_low+tol)<p<(p_high-tol):\n",
    "        run+=1\n",
    "        print(\"Run \"+str(run)+\": l [\"+str(start)+\", \"+str(end)+\"], p [\"+str(p_low)+\", \"+str(p_high)+\"]\")\n",
    "        if run >max_run:\n",
    "            print(\"Exact l not found, closest values are:\\n\"+\"l=\"+str(start)+\": \"+\"p=\"+str(p_low)+\"\\nl=\"+str(end)+\": \"+\"p=\"+str(p_high))\n",
    "            return None\n",
    "        mid=(start+end)/2\n",
    "        p_mid=calculate_p(adj, mid)\n",
    "        if np.abs(p_mid-p)<=tol:\n",
    "            print(\"recommended l = \", str(mid))\n",
    "            return mid\n",
    "        if p_mid<=p:\n",
    "            start=mid\n",
    "            p_low=p_mid\n",
    "        else:\n",
    "            end=mid\n",
    "            p_high=p_mid"
   ]
  },
  {
   "cell_type": "code",
   "execution_count": 9,
   "id": "87dbe19f",
   "metadata": {},
   "outputs": [],
   "source": [
    "def calculate_p(adj, l):\n",
    "    adj_exp=np.exp(-1*(adj**2)/(2*(l**2)))\n",
    "    return np.mean(np.sum(adj_exp,1))-1"
   ]
  },
  {
   "cell_type": "code",
   "execution_count": 10,
   "id": "bcc473fb",
   "metadata": {},
   "outputs": [],
   "source": [
    "def search_radius(target_cluster,cell_id, adj, x, y, pred, start, end, num_min=8, num_max=15,  max_run=100):\n",
    "    run=0\n",
    "    num_low=count_nbr(target_cluster,cell_id, adj, x, y, pred, start)\n",
    "    num_high=count_nbr(target_cluster,cell_id, adj, x, y, pred, end)\n",
    "    if num_min<=num_low<=num_max:\n",
    "        print(\"recommended radius = \", str(start))\n",
    "        return start\n",
    "    elif num_min<=num_high<=num_max:\n",
    "        print(\"recommended radius = \", str(end))\n",
    "        return end\n",
    "    elif num_low>num_max:\n",
    "        print(\"Try smaller start.\")\n",
    "        return None\n",
    "    elif num_high<num_min:\n",
    "        print(\"Try bigger end.\")\n",
    "        return None\n",
    "    while (num_low<num_min) and (num_high>num_min):\n",
    "        run+=1\n",
    "        print(\"Run \"+str(run)+\": radius [\"+str(start)+\", \"+str(end)+\"], num_nbr [\"+str(num_low)+\", \"+str(num_high)+\"]\")\n",
    "        if run >max_run:\n",
    "            print(\"Exact radius not found, closest values are:\\n\"+\"radius=\"+str(start)+\": \"+\"num_nbr=\"+str(num_low)+\"\\nradius=\"+str(end)+\": \"+\"num_nbr=\"+str(num_high))\n",
    "            return None\n",
    "        mid=(start+end)/2\n",
    "        num_mid=count_nbr(target_cluster,cell_id, adj, x, y, pred, mid)\n",
    "        if num_min<=num_mid<=num_max:\n",
    "            print(\"recommended radius = \", str(mid), \"num_nbr=\"+str(num_mid))\n",
    "            return mid\n",
    "        if num_mid<num_min:\n",
    "            start=mid\n",
    "            num_low=num_mid\n",
    "        elif num_mid>num_max:\n",
    "            end=mid\n",
    "            num_high=num_mid"
   ]
  },
  {
   "cell_type": "code",
   "execution_count": 11,
   "id": "d2693177",
   "metadata": {},
   "outputs": [],
   "source": [
    "def count_nbr(target_cluster, cell_id, adj, x, y, pred, radius):\n",
    "    cluster_num = dict()\n",
    "    df = {'cell_id': cell_id, 'x': x, \"y\":y, \"pred\":pred}\n",
    "    df = pd.DataFrame(data=df)\n",
    "    df.index=df['cell_id']\n",
    "    target_df=df[df[\"pred\"]==target_cluster]\n",
    "    row_index=0\n",
    "    num_nbr=[]\n",
    "    for index, row in target_df.iterrows():\n",
    "        x=row[\"x\"]\n",
    "        y=row[\"y\"]\n",
    "        tmp_nbr=df[((df[\"x\"]-x)**2+(df[\"y\"]-y)**2)<=(radius**2)]\n",
    "        num_nbr.append(tmp_nbr.shape[0])\n",
    "    return np.mean(num_nbr)"
   ]
  },
  {
   "cell_type": "markdown",
   "id": "d1694944",
   "metadata": {},
   "source": [
    "## spatialLIBD dataset"
   ]
  },
  {
   "cell_type": "code",
   "execution_count": 5,
   "id": "3a37a2ee",
   "metadata": {},
   "outputs": [],
   "source": [
    "gene_expression = np.loadtxt(\"../data/SpaGCN_spatialLIBD/files/expression_151673.txt\")\n",
    "adata = AnnData(gene_expression)\n",
    "gene_names = np.loadtxt(\"../data/SpaGCN_spatialLIBD/files/genes_151673.txt\", dtype=str)"
   ]
  },
  {
   "cell_type": "code",
   "execution_count": 6,
   "id": "e3008f18",
   "metadata": {},
   "outputs": [
    {
     "ename": "NameError",
     "evalue": "name 'x' is not defined",
     "output_type": "error",
     "traceback": [
      "\u001b[0;31m---------------------------------------------------------------------------\u001b[0m",
      "\u001b[0;31mNameError\u001b[0m                                 Traceback (most recent call last)",
      "\u001b[0;32m<ipython-input-6-7b69bf513d14>\u001b[0m in \u001b[0;36m<module>\u001b[0;34m\u001b[0m\n\u001b[0;32m----> 1\u001b[0;31m \u001b[0madata\u001b[0m\u001b[0;34m.\u001b[0m\u001b[0mobs\u001b[0m\u001b[0;34m[\u001b[0m\u001b[0;34m\"x_pixel\"\u001b[0m\u001b[0;34m]\u001b[0m \u001b[0;34m=\u001b[0m \u001b[0mx\u001b[0m\u001b[0;34m\u001b[0m\u001b[0;34m\u001b[0m\u001b[0m\n\u001b[0m\u001b[1;32m      2\u001b[0m \u001b[0madata\u001b[0m\u001b[0;34m.\u001b[0m\u001b[0mobs\u001b[0m\u001b[0;34m[\u001b[0m\u001b[0;34m\"y_pixel\"\u001b[0m\u001b[0;34m]\u001b[0m \u001b[0;34m=\u001b[0m \u001b[0my\u001b[0m\u001b[0;34m\u001b[0m\u001b[0;34m\u001b[0m\u001b[0m\n\u001b[1;32m      3\u001b[0m \u001b[0madata\u001b[0m\u001b[0;34m.\u001b[0m\u001b[0mvar_names\u001b[0m \u001b[0;34m=\u001b[0m \u001b[0mgene_names\u001b[0m\u001b[0;34m\u001b[0m\u001b[0;34m\u001b[0m\u001b[0m\n",
      "\u001b[0;31mNameError\u001b[0m: name 'x' is not defined"
     ]
    }
   ],
   "source": [
    "adata.obs[\"x_pixel\"] = x\n",
    "adata.obs[\"y_pixel\"] = y\n",
    "adata.var_names = gene_names"
   ]
  },
  {
   "cell_type": "code",
   "execution_count": null,
   "id": "7f693eee",
   "metadata": {},
   "outputs": [],
   "source": [
    "spg.prefilter_genes(adata, min_cells=3) # avoiding all genes are zeros\n",
    "spg.prefilter_specialgenes(adata)\n",
    "#Normalize and take log for UMI\n",
    "sc.pp.normalize_per_cell(adata)\n",
    "sc.pp.log1p(adata)"
   ]
  },
  {
   "cell_type": "code",
   "execution_count": null,
   "id": "10fd63e2",
   "metadata": {},
   "outputs": [],
   "source": [
    "p=0.5 \n",
    "#Find the l value given p\n",
    "l = search_l(p, adjacency_matrix, start=0.01, end=1000, tol=0.01, max_run=100)"
   ]
  },
  {
   "cell_type": "code",
   "execution_count": null,
   "id": "4b7c9df0",
   "metadata": {},
   "outputs": [],
   "source": [
    "#For this toy data, we set the number of clusters=7 since this tissue has 7 layers\n",
    "n_clusters=7\n",
    "#Set seed\n",
    "r_seed=t_seed=n_seed=50\n",
    "#Search for suitable resolution\n",
    "res = spg.search_res(adata, adjacency_matrix, l, n_clusters, start=0.7, step=0.1, tol=5e-3, lr=0.05, max_epochs=20, r_seed=r_seed, t_seed=t_seed, n_seed=n_seed)"
   ]
  },
  {
   "cell_type": "code",
   "execution_count": null,
   "id": "424874b0",
   "metadata": {},
   "outputs": [],
   "source": [
    "clf = spg.SpaGCN()\n",
    "clf.set_l(l)"
   ]
  },
  {
   "cell_type": "code",
   "execution_count": null,
   "id": "82c0d6cf",
   "metadata": {},
   "outputs": [],
   "source": [
    "#Set seed\n",
    "random.seed(r_seed)\n",
    "torch.manual_seed(t_seed)\n",
    "np.random.seed(n_seed)"
   ]
  },
  {
   "cell_type": "code",
   "execution_count": null,
   "id": "2677b6cb",
   "metadata": {},
   "outputs": [],
   "source": [
    "#Run\n",
    "clf.train(adata, adjacency_matrix, init_spa=True, init=\"louvain\", res=res, tol=5e-3, lr=0.05, max_epochs=1000)\n",
    "\n",
    "y_pred, prob = clf.predict()\n",
    "adata.obs[\"pred\"] = y_pred\n",
    "adata.obs[\"pred\"] = adata.obs[\"pred\"].astype('category')"
   ]
  },
  {
   "cell_type": "code",
   "execution_count": null,
   "id": "12f6c41b",
   "metadata": {},
   "outputs": [],
   "source": [
    "#Do cluster refinement(optional)\n",
    "#shape=\"hexagon\" for Visium data, \"square\" for ST data.\n",
    "refined_pred = spg.refine(sample_id=adata.obs.index.tolist(), pred=adata.obs[\"pred\"].tolist(), dis=adjacency_matrix, shape=\"hexagon\")\n",
    "adata.obs[\"refined_pred\"] = refined_pred\n",
    "adata.obs[\"refined_pred\"] = adata.obs[\"refined_pred\"].astype('category')"
   ]
  },
  {
   "cell_type": "code",
   "execution_count": null,
   "id": "b1b53945",
   "metadata": {},
   "outputs": [],
   "source": [
    "#Set colors used\n",
    "plot_color=[\"#F56867\",\"#FEB915\",\"#C798EE\",\"#59BE86\",\"#7495D3\",\"#D1D1D1\",\"#6D1A9C\",\"#15821E\",\"#3A84E6\",\"#997273\",\"#787878\",\"#DB4C6C\",\"#9E7A7A\",\"#554236\",\"#AF5F3C\",\"#93796C\",\"#F9BD3F\",\"#DAB370\",\"#877F6C\",\"#268785\"]\n",
    "#Plot spatial domains\n",
    "domains = \"pred\"\n",
    "num_celltype = len(adata.obs[domains].unique())\n",
    "adata.uns[domains+\"_colors\"] = list(plot_color[:num_celltype])\n",
    "ax=sc.pl.scatter(adata, alpha=1,x=\"y_pixel\",y=\"x_pixel\", color=domains, title=domains, color_map=plot_color, show=False, size=100000/adata.shape[0])\n",
    "ax.set_aspect('equal', 'box')\n",
    "ax.axes.invert_yaxis()\n",
    "plt.show()\n",
    "plt.close()\n",
    "\n",
    "#Plot refined spatial domains\n",
    "domains=\"refined_pred\"\n",
    "num_celltype=len(adata.obs[domains].unique())\n",
    "adata.uns[domains+\"_colors\"]=list(plot_color[:num_celltype])\n",
    "ax=sc.pl.scatter(adata,alpha=1,x=\"y_pixel\",y=\"x_pixel\", color=domains, title=domains, color_map=plot_color, show=False, size=100000/adata.shape[0])\n",
    "ax.set_aspect('equal', 'box')\n",
    "ax.axes.invert_yaxis()\n",
    "plt.show()\n",
    "plt.close()"
   ]
  },
  {
   "cell_type": "code",
   "execution_count": null,
   "id": "e842432b",
   "metadata": {
    "scrolled": true
   },
   "outputs": [],
   "source": [
    "adjusted_rand_score(adata.obs[\"refined_pred\"].values, labels)"
   ]
  },
  {
   "cell_type": "code",
   "execution_count": null,
   "id": "196b09bb",
   "metadata": {},
   "outputs": [],
   "source": [
    "#Use domain 0 as an example\n",
    "domain_labels = list(range(7))\n",
    "\n",
    "#Set filtering criterials\n",
    "min_in_group_fraction=0.8\n",
    "min_in_out_group_ratio=1\n",
    "min_fold_change=1.5\n",
    "\n",
    "nonzero_index = (adjacency_matrix!=0)\n",
    "#Search radius such that each spot in the target domain has approximately 10 neighbors on average\n",
    "start, end = np.quantile(adjacency_matrix[nonzero_index],q=0.001), np.quantile(adjacency_matrix[nonzero_index], q=0.1)\n",
    "SVGs = []\n",
    "for target in domain_labels:\n",
    "    r=search_radius(target_cluster=target, cell_id=adata.obs.index.tolist(), adj=adjacency_matrix, x=x, y=y, pred=adata.obs[\"pred\"].tolist(), start=start, end=end, num_min=10, num_max=14,  max_run=100)\n",
    "    #Detect neighboring domains\n",
    "    nbr_domians=spg.find_neighbor_clusters(target_cluster=target,\n",
    "                                       cell_id=adata.obs.index.tolist(), \n",
    "                                       x=adata.obs[\"x_pixel\"].tolist(), \n",
    "                                       y=adata.obs[\"y_pixel\"].tolist(), \n",
    "                                       pred=adata.obs[\"pred\"].tolist(),\n",
    "                                       radius=r,\n",
    "                                       ratio=1/2)\n",
    "\n",
    "    nbr_domians=nbr_domians[0:3]\n",
    "    de_genes_info=spg.rank_genes_groups(input_adata=adata,\n",
    "                                    target_cluster=target,\n",
    "                                    nbr_list=nbr_domians, \n",
    "                                    label_col=\"pred\", \n",
    "                                    adj_nbr=True, \n",
    "                                    log=True)\n",
    "    #Filter genes\n",
    "    de_genes_info=de_genes_info[(de_genes_info[\"pvals_adj\"]<0.05)]\n",
    "    filtered_info=de_genes_info\n",
    "    filtered_info=filtered_info[(filtered_info[\"pvals_adj\"]<0.05) &\n",
    "                                (filtered_info[\"in_out_group_ratio\"]>min_in_out_group_ratio) &\n",
    "                                (filtered_info[\"in_group_fraction\"]>min_in_group_fraction) &\n",
    "                                (filtered_info[\"fold_change\"]>min_fold_change)]\n",
    "    filtered_info=filtered_info.sort_values(by=\"in_group_fraction\", ascending=False)\n",
    "    filtered_info[\"target_dmain\"]=target\n",
    "    filtered_info[\"neighbors\"]=str(nbr_domians)\n",
    "    print(\"SVGs for domain \", str(target),\":\", filtered_info[\"genes\"].tolist())\n",
    "    SVGs.append(filtered_info[\"genes\"].tolist())"
   ]
  },
  {
   "cell_type": "code",
   "execution_count": null,
   "id": "a0705676",
   "metadata": {},
   "outputs": [],
   "source": [
    "target=1\n",
    "meta_name, meta_exp = spg.find_meta_gene(input_adata=adata,\n",
    "                    pred=adata.obs[\"pred\"].tolist(),\n",
    "                    target_domain=target,\n",
    "                    start_gene=\"GFAP\",\n",
    "                    mean_diff=0,\n",
    "                    early_stop=True,\n",
    "                    max_iter=3,\n",
    "                    use_raw=False)\n",
    "\n",
    "adata.obs[\"meta\"] = meta_exp"
   ]
  },
  {
   "cell_type": "code",
   "execution_count": null,
   "id": "e41e16ab",
   "metadata": {},
   "outputs": [],
   "source": [
    "color_self = LinearSegmentedColormap.from_list('pink_green', ['#3AB370',\"#EAE7CC\",\"#FD1593\"], N=256)\n",
    "\n",
    "#Plot meta gene\n",
    "gene = \"GFAP\"\n",
    "adata.obs[\"exp\"] = adata.X[:, adata.var.index == gene]\n",
    "ax = sc.pl.scatter(adata, alpha=1, x=\"y_pixel\", y=\"x_pixel\", color=\"exp\",title=gene, color_map=color_self, show=False, size=100000/adata.shape[0])\n",
    "ax.set_aspect('equal', 'box')\n",
    "ax.axes.invert_yaxis()\n",
    "plt.show()\n",
    "plt.close()\n",
    "\n",
    "adata.obs[\"exp\"]=adata.obs[\"meta\"]\n",
    "ax = sc.pl.scatter(adata, alpha=1, x=\"y_pixel\", y=\"x_pixel\", color=\"exp\",title=meta_name,color_map=color_self, show=False,size=100000/adata.shape[0])\n",
    "ax.set_aspect('equal', 'box')\n",
    "ax.axes.invert_yaxis()\n",
    "plt.show()\n",
    "plt.close()"
   ]
  },
  {
   "cell_type": "markdown",
   "id": "1e167458",
   "metadata": {},
   "source": [
    "## STARmap dataset"
   ]
  },
  {
   "cell_type": "code",
   "execution_count": 12,
   "id": "d6360b4b",
   "metadata": {},
   "outputs": [],
   "source": [
    "gene_expression = np.load(\"../STARmap_2018/files/expression_visual_1020_20180410-BY3_1kgenes.pkl\", allow_pickle=True)\n",
    "adata = AnnData(gene_expression)\n",
    "gene_names = np.loadtxt(\"../STARmap_2018/files/genes_visual_1020_20180410-BY3_1kgenes.txt\", dtype=str)"
   ]
  },
  {
   "cell_type": "code",
   "execution_count": 13,
   "id": "1a4c63b7",
   "metadata": {},
   "outputs": [],
   "source": [
    "coordinates = np.loadtxt(\"../STARmap_2018/files/coordinates_visual_1020_20180410-BY3_1kgenes.txt\")\n",
    "labels = np.loadtxt(\"../STARmap_2018/files/labels_visual_1020_20180410-BY3_1kgenes.txt\", dtype=\"str\")\n",
    "x, y = coordinates.T"
   ]
  },
  {
   "cell_type": "code",
   "execution_count": 14,
   "id": "a36851ff",
   "metadata": {},
   "outputs": [
    {
     "name": "stdout",
     "output_type": "stream",
     "text": [
      "Calculateing adj matrix using xy only...\n"
     ]
    }
   ],
   "source": [
    "adjacency_matrix = spg.calculate_adj_matrix(x=x, y=y, histology=False)"
   ]
  },
  {
   "cell_type": "code",
   "execution_count": 15,
   "id": "d8e17684",
   "metadata": {},
   "outputs": [],
   "source": [
    "adata.obs[\"x_pixel\"] = x\n",
    "adata.obs[\"y_pixel\"] = y\n",
    "adata.var_names = gene_names"
   ]
  },
  {
   "cell_type": "code",
   "execution_count": 16,
   "id": "554d7ef7",
   "metadata": {},
   "outputs": [],
   "source": [
    "spg.prefilter_genes(adata, min_cells=3) # avoiding all genes are zeros\n",
    "spg.prefilter_specialgenes(adata)\n",
    "#Normalize and take log for UMI\n",
    "sc.pp.normalize_per_cell(adata)\n",
    "sc.pp.log1p(adata)"
   ]
  },
  {
   "cell_type": "code",
   "execution_count": 17,
   "id": "2faebb1f",
   "metadata": {},
   "outputs": [
    {
     "name": "stdout",
     "output_type": "stream",
     "text": [
      "Run 1: l [0.01, 1000], p [0.0, 73.02743865988917]\n",
      "Run 2: l [0.01, 500.005], p [0.0, 21.67870330810547]\n",
      "Run 3: l [0.01, 250.0075], p [0.0, 5.707661151885986]\n",
      "Run 4: l [0.01, 125.00874999999999], p [0.0, 1.192328929901123]\n",
      "Run 5: l [62.509375, 125.00874999999999], p [0.11237502098083496, 1.192328929901123]\n",
      "Run 6: l [62.509375, 93.7590625], p [0.11237502098083496, 0.5251157283782959]\n",
      "Run 7: l [78.13421875, 93.7590625], p [0.28219711780548096, 0.5251157283782959]\n",
      "Run 8: l [85.946640625, 93.7590625], p [0.39522767066955566, 0.5251157283782959]\n",
      "Run 9: l [89.8528515625, 93.7590625], p [0.45814383029937744, 0.5251157283782959]\n",
      "recommended l =  91.80595703125\n"
     ]
    }
   ],
   "source": [
    "p=0.5 \n",
    "#Find the l value given p\n",
    "l = search_l(p, adjacency_matrix, start=0.01, end=1000, tol=0.01, max_run=100)"
   ]
  },
  {
   "cell_type": "code",
   "execution_count": 18,
   "id": "e9b25894",
   "metadata": {},
   "outputs": [
    {
     "name": "stdout",
     "output_type": "stream",
     "text": [
      "Start at res =  0.7 step =  0.1\n",
      "Initializing cluster centers with louvain, resolution =  0.7\n",
      "Epoch  0\n",
      "Epoch  10\n",
      "Res =  0.7 Num of clusters =  7\n",
      "Initializing cluster centers with louvain, resolution =  0.7999999999999999\n"
     ]
    },
    {
     "name": "stderr",
     "output_type": "stream",
     "text": [
      "/home/shahula/bin/miniconda3/envs/multimodal/lib/python3.8/site-packages/torch/autograd/__init__.py:130: UserWarning: CUDA initialization: Found no NVIDIA driver on your system. Please check that you have an NVIDIA GPU and installed a driver from http://www.nvidia.com/Download/index.aspx (Triggered internally at  /opt/conda/conda-bld/pytorch_1607370117127/work/c10/cuda/CUDAFunctions.cpp:100.)\n",
      "  Variable._execution_engine.run_backward(\n"
     ]
    },
    {
     "name": "stdout",
     "output_type": "stream",
     "text": [
      "Epoch  0\n",
      "Epoch  10\n",
      "Res =  0.7999999999999999 Num of clusters =  7\n",
      "Res changed to 0.7999999999999999\n",
      "Initializing cluster centers with louvain, resolution =  0.8999999999999999\n",
      "Epoch  0\n",
      "Epoch  10\n",
      "Res =  0.8999999999999999 Num of clusters =  8\n",
      "Res changed to 0.8999999999999999\n",
      "Initializing cluster centers with louvain, resolution =  0.9999999999999999\n",
      "Epoch  0\n",
      "Epoch  10\n",
      "Res =  0.9999999999999999 Num of clusters =  8\n",
      "Res changed to 0.9999999999999999\n",
      "Initializing cluster centers with louvain, resolution =  1.0999999999999999\n",
      "Epoch  0\n",
      "Epoch  10\n",
      "Res =  1.0999999999999999 Num of clusters =  9\n",
      "Res changed to 1.0999999999999999\n",
      "Initializing cluster centers with louvain, resolution =  1.2\n",
      "Epoch  0\n",
      "Epoch  10\n",
      "Res =  1.2 Num of clusters =  10\n",
      "Res changed to 1.2\n",
      "Initializing cluster centers with louvain, resolution =  1.3\n",
      "Epoch  0\n",
      "Epoch  10\n",
      "Res =  1.3 Num of clusters =  10\n",
      "Res changed to 1.3\n",
      "Initializing cluster centers with louvain, resolution =  1.4000000000000001\n",
      "Epoch  0\n",
      "Epoch  10\n",
      "Res =  1.4000000000000001 Num of clusters =  11\n",
      "Res changed to 1.4000000000000001\n",
      "Initializing cluster centers with louvain, resolution =  1.5000000000000002\n",
      "Epoch  0\n",
      "Epoch  10\n",
      "Res =  1.5000000000000002 Num of clusters =  11\n",
      "Res changed to 1.5000000000000002\n",
      "Initializing cluster centers with louvain, resolution =  1.6000000000000003\n",
      "Epoch  0\n",
      "Epoch  10\n",
      "Res =  1.6000000000000003 Num of clusters =  11\n",
      "Res changed to 1.6000000000000003\n",
      "Initializing cluster centers with louvain, resolution =  1.7000000000000004\n",
      "Epoch  0\n",
      "Epoch  10\n",
      "Res =  1.7000000000000004 Num of clusters =  12\n",
      "Res changed to 1.7000000000000004\n",
      "Initializing cluster centers with louvain, resolution =  1.8000000000000005\n",
      "Epoch  0\n",
      "Epoch  10\n",
      "Res =  1.8000000000000005 Num of clusters =  14\n",
      "Res changed to 1.8000000000000005\n",
      "Initializing cluster centers with louvain, resolution =  1.9000000000000006\n",
      "Epoch  0\n",
      "Epoch  10\n",
      "Res =  1.9000000000000006 Num of clusters =  13\n",
      "Res changed to 1.9000000000000006\n",
      "Exact resoljution not found\n",
      "Recommended res =  1.9000000000000006\n"
     ]
    }
   ],
   "source": [
    "#For this toy data, we set the number of clusters=7 since this tissue has 7 layers\n",
    "n_clusters=16\n",
    "#Set seed\n",
    "r_seed=t_seed=n_seed=100\n",
    "#Search for suitable resolution\n",
    "res = spg.search_res(adata, adjacency_matrix, l, n_clusters, start=0.7, step=0.1, tol=5e-3, lr=0.05, max_epochs=20, r_seed=r_seed, t_seed=t_seed, n_seed=n_seed)"
   ]
  },
  {
   "cell_type": "code",
   "execution_count": 19,
   "id": "8f0306d2",
   "metadata": {},
   "outputs": [],
   "source": [
    "clf = spg.SpaGCN()\n",
    "clf.set_l(l)"
   ]
  },
  {
   "cell_type": "code",
   "execution_count": 20,
   "id": "6ea2cd25",
   "metadata": {},
   "outputs": [],
   "source": [
    "#Set seed\n",
    "random.seed(r_seed)\n",
    "torch.manual_seed(t_seed)\n",
    "np.random.seed(n_seed)"
   ]
  },
  {
   "cell_type": "code",
   "execution_count": 21,
   "id": "234c8ff8",
   "metadata": {},
   "outputs": [
    {
     "name": "stdout",
     "output_type": "stream",
     "text": [
      "Initializing cluster centers with louvain, resolution =  1.9000000000000006\n",
      "Epoch  0\n",
      "Epoch  10\n",
      "Epoch  20\n",
      "Epoch  30\n",
      "delta_label  0.0032258064516129032 < tol  0.005\n",
      "Reach tolerance threshold. Stopping training.\n",
      "Total epoch: 34\n"
     ]
    }
   ],
   "source": [
    "#Run\n",
    "clf.train(adata, adjacency_matrix, init_spa=True, init=\"louvain\", res=res, tol=5e-3, lr=0.05, max_epochs=1000)\n",
    "\n",
    "y_pred, prob = clf.predict()\n",
    "adata.obs[\"pred\"] = y_pred\n",
    "adata.obs[\"pred\"] = adata.obs[\"pred\"].astype('category')"
   ]
  },
  {
   "cell_type": "code",
   "execution_count": 22,
   "id": "7887e924",
   "metadata": {},
   "outputs": [],
   "source": [
    "#Do cluster refinement(optional)\n",
    "#shape=\"hexagon\" for Visium data, \"square\" for ST data.\n",
    "refined_pred = spg.refine(sample_id=adata.obs.index.tolist(), pred=adata.obs[\"pred\"].tolist(), dis=adjacency_matrix, shape=\"hexagon\")\n",
    "adata.obs[\"refined_pred\"] = refined_pred\n",
    "adata.obs[\"refined_pred\"] = adata.obs[\"refined_pred\"].astype('category')"
   ]
  },
  {
   "cell_type": "code",
   "execution_count": 23,
   "id": "2be5429b",
   "metadata": {},
   "outputs": [
    {
     "data": {
      "image/png": "[encoded data removed]",
      "text/plain": [
       "<Figure size 609.84x288 with 1 Axes>"
      ]
     },
     "metadata": {
      "needs_background": "light"
     },
     "output_type": "display_data"
    },
    {
     "data": {
      "image/png": "[encoded data removed]",
      "text/plain": [
       "<Figure size 609.84x288 with 1 Axes>"
      ]
     },
     "metadata": {
      "needs_background": "light"
     },
     "output_type": "display_data"
    }
   ],
   "source": [
    "#Set colors used\n",
    "plot_color=[\"#F56867\",\"#FEB915\",\"#C798EE\",\"#59BE86\",\"#7495D3\",\"#D1D1D1\",\"#6D1A9C\",\"#15821E\",\"#3A84E6\",\"#997273\",\"#787878\",\"#DB4C6C\",\"#9E7A7A\",\"#554236\",\"#AF5F3C\",\"#93796C\",\"#F9BD3F\",\"#DAB370\",\"#877F6C\",\"#268785\"]\n",
    "#Plot spatial domains\n",
    "domains = \"pred\"\n",
    "num_celltype = len(adata.obs[domains].unique())\n",
    "adata.uns[domains+\"_colors\"] = list(plot_color[:num_celltype])\n",
    "ax=sc.pl.scatter(adata, alpha=1,x=\"y_pixel\",y=\"x_pixel\", color=domains, title=domains, color_map=plot_color, show=False, size=100000/adata.shape[0])\n",
    "ax.set_aspect('equal', 'box')\n",
    "ax.axes.invert_yaxis()\n",
    "plt.show()\n",
    "plt.close()\n",
    "\n",
    "#Plot refined spatial domains\n",
    "domains=\"refined_pred\"\n",
    "num_celltype=len(adata.obs[domains].unique())\n",
    "adata.uns[domains+\"_colors\"]=list(plot_color[:num_celltype])\n",
    "ax=sc.pl.scatter(adata,alpha=1,x=\"y_pixel\",y=\"x_pixel\", color=domains, title=domains, color_map=plot_color, show=False, size=100000/adata.shape[0])\n",
    "ax.set_aspect('equal', 'box')\n",
    "ax.axes.invert_yaxis()\n",
    "plt.show()\n",
    "plt.close()"
   ]
  },
  {
   "cell_type": "code",
   "execution_count": 26,
   "id": "5bf2068b",
   "metadata": {
    "scrolled": true
   },
   "outputs": [
    {
     "data": {
      "text/plain": [
       "0.45615084923041943"
      ]
     },
     "execution_count": 26,
     "metadata": {},
     "output_type": "execute_result"
    }
   ],
   "source": [
    "adjusted_rand_score(adata.obs[\"pred\"].values, labels)"
   ]
  },
  {
   "cell_type": "code",
   "execution_count": 47,
   "id": "663c5bc5",
   "metadata": {},
   "outputs": [
    {
     "name": "stdout",
     "output_type": "stream",
     "text": [
      "Run 1: radius [164.7478447113037, 1554.0098876953125], num_nbr [2.2410714285714284, 97.375]\n",
      "Run 2: radius [164.7478447113037, 859.3788662033081], num_nbr [2.2410714285714284, 35.830357142857146]\n",
      "Run 3: radius [164.7478447113037, 512.0633554573059], num_nbr [2.2410714285714284, 14.098214285714286]\n",
      "Run 4: radius [338.4056000843048, 512.0633554573059], num_nbr [6.642857142857143, 14.098214285714286]\n",
      "Run 5: radius [425.23447777080537, 512.0633554573059], num_nbr [9.571428571428571, 14.098214285714286]\n",
      "recommended radius =  468.6489166140556 num_nbr=11.839285714285714\n",
      "radius= 468.6489166140556 average number of neighbors for each spot is 11.839285714285714\n",
      " Cluster 0 has neighbors:\n",
      "Dmain  9 :  75\n",
      "Dmain  14 :  26\n",
      "SVGs for domain  0 : ['Mbp', 'Kif5a', 'Plp1', 'Mobp', 'Qk', 'Dusp6', 'Sept4']\n",
      "Run 1: radius [164.7478447113037, 1554.0098876953125], num_nbr [2.5977011494252875, 76.816091954023]\n",
      "Run 2: radius [164.7478447113037, 859.3788662033081], num_nbr [2.5977011494252875, 37.52873563218391]\n",
      "Run 3: radius [164.7478447113037, 512.0633554573059], num_nbr [2.5977011494252875, 17.413793103448278]\n",
      "Run 4: radius [338.4056000843048, 512.0633554573059], num_nbr [9.080459770114942, 17.413793103448278]\n",
      "recommended radius =  425.23447777080537 num_nbr=13.068965517241379\n",
      "radius= 425.23447777080537 average number of neighbors for each spot is 13.068965517241379\n",
      " Cluster 1 has neighbors:\n",
      "Dmain  8 :  12\n",
      "SVGs for domain  1 : ['St6galnac5']\n",
      "Run 1: radius [164.7478447113037, 1554.0098876953125], num_nbr [1.6363636363636365, 108.31818181818181]\n",
      "Run 2: radius [164.7478447113037, 859.3788662033081], num_nbr [1.6363636363636365, 36.77272727272727]\n",
      "Run 3: radius [164.7478447113037, 512.0633554573059], num_nbr [1.6363636363636365, 14.136363636363637]\n",
      "Run 4: radius [338.4056000843048, 512.0633554573059], num_nbr [6.0, 14.136363636363637]\n",
      "Run 5: radius [425.23447777080537, 512.0633554573059], num_nbr [9.545454545454545, 14.136363636363637]\n",
      "recommended radius =  468.6489166140556 num_nbr=11.863636363636363\n",
      "radius= 468.6489166140556 average number of neighbors for each spot is 11.863636363636363\n",
      " Cluster 2 has neighbors:\n",
      "Dmain  6 :  70\n",
      "Dmain  11 :  16\n",
      "Dmain  10 :  8\n",
      "SVGs for domain  2 : []\n",
      "Run 1: radius [164.7478447113037, 1554.0098876953125], num_nbr [1.6153846153846154, 78.0]\n",
      "Run 2: radius [164.7478447113037, 859.3788662033081], num_nbr [1.6153846153846154, 26.17948717948718]\n",
      "recommended radius =  512.0633554573059 num_nbr=10.102564102564102\n",
      "radius= 512.0633554573059 average number of neighbors for each spot is 10.102564102564102\n",
      " Cluster 3 has neighbors:\n",
      "Dmain  9 :  101\n",
      "Dmain  4 :  97\n",
      "Dmain  6 :  95\n",
      "Dmain  5 :  90\n",
      "Dmain  13 :  61\n",
      "Dmain  11 :  30\n",
      "Dmain  14 :  17\n",
      "Dmain  8 :  16\n",
      "SVGs for domain  3 : ['Glul', 'Apoe', 'Atp1a2', 'Qk']\n",
      "Run 1: radius [164.7478447113037, 1554.0098876953125], num_nbr [1.6132075471698113, 92.98113207547169]\n",
      "Run 2: radius [164.7478447113037, 859.3788662033081], num_nbr [1.6132075471698113, 30.462264150943398]\n",
      "recommended radius =  512.0633554573059 num_nbr=11.320754716981131\n",
      "radius= 512.0633554573059 average number of neighbors for each spot is 11.320754716981131\n",
      " Cluster 4 has neighbors:\n",
      "Dmain  9 :  160\n",
      "Dmain  5 :  123\n",
      "Dmain  3 :  97\n",
      "Dmain  6 :  92\n",
      "Dmain  12 :  78\n",
      "Dmain  0 :  57\n",
      "Dmain  14 :  56\n",
      "Dmain  8 :  54\n",
      "Dmain  2 :  31\n",
      "Dmain  7 :  16\n",
      "Dmain  11 :  13\n",
      "Dmain  10 :  8\n",
      "SVGs for domain  4 : ['Gad1']\n",
      "Run 1: radius [164.7478447113037, 1554.0098876953125], num_nbr [1.8833333333333333, 88.28333333333333]\n",
      "Run 2: radius [164.7478447113037, 859.3788662033081], num_nbr [1.8833333333333333, 30.166666666666668]\n",
      "recommended radius =  512.0633554573059 num_nbr=11.891666666666667\n",
      "radius= 512.0633554573059 average number of neighbors for each spot is 11.891666666666667\n",
      " Cluster 5 has neighbors:\n",
      "Dmain  4 :  123\n",
      "Dmain  3 :  90\n",
      "Dmain  2 :  64\n",
      "Dmain  6 :  61\n",
      "Dmain  12 :  34\n",
      "Dmain  10 :  20\n",
      "Dmain  11 :  13\n",
      "SVGs for domain  5 : ['Pcsk2', 'Lamp5', 'Enc1']\n",
      "Run 1: radius [164.7478447113037, 1554.0098876953125], num_nbr [2.046728971962617, 118.8785046728972]\n",
      "Run 2: radius [164.7478447113037, 859.3788662033081], num_nbr [2.046728971962617, 41.96261682242991]\n",
      "Run 3: radius [164.7478447113037, 512.0633554573059], num_nbr [2.046728971962617, 15.869158878504672]\n",
      "Run 4: radius [338.4056000843048, 512.0633554573059], num_nbr [7.205607476635514, 15.869158878504672]\n",
      "recommended radius =  425.23447777080537 num_nbr=11.0\n",
      "radius= 425.23447777080537 average number of neighbors for each spot is 11.0\n",
      " Cluster 6 has neighbors:\n",
      "Dmain  11 :  140\n",
      "Dmain  3 :  65\n",
      "Dmain  4 :  59\n",
      "Dmain  2 :  55\n",
      "Dmain  14 :  28\n",
      "Dmain  10 :  11\n",
      "Dmain  8 :  10\n",
      "Dmain  7 :  4\n",
      "SVGs for domain  6 : ['Egr1', 'Egr3', 'Nrn1']\n",
      "Run 1: radius [164.7478447113037, 1554.0098876953125], num_nbr [1.5, 107.0]\n",
      "Run 2: radius [164.7478447113037, 859.3788662033081], num_nbr [1.5, 35.0]\n",
      "recommended radius =  512.0633554573059 num_nbr=12.0\n",
      "radius= 512.0633554573059 average number of neighbors for each spot is 12.0\n",
      " Cluster 7 has neighbors:\n",
      "No neighbor domain found, try bigger radius or smaller ratio\n"
     ]
    },
    {
     "ename": "TypeError",
     "evalue": "'NoneType' object is not subscriptable",
     "output_type": "error",
     "traceback": [
      "\u001b[0;31m---------------------------------------------------------------------------\u001b[0m",
      "\u001b[0;31mTypeError\u001b[0m                                 Traceback (most recent call last)",
      "\u001b[0;32m<ipython-input-47-b7a82efeb59c>\u001b[0m in \u001b[0;36m<module>\u001b[0;34m\u001b[0m\n\u001b[1;32m     22\u001b[0m                                        ratio=1/2)\n\u001b[1;32m     23\u001b[0m \u001b[0;34m\u001b[0m\u001b[0m\n\u001b[0;32m---> 24\u001b[0;31m     \u001b[0mnbr_domians\u001b[0m\u001b[0;34m=\u001b[0m\u001b[0mnbr_domians\u001b[0m\u001b[0;34m[\u001b[0m\u001b[0;36m0\u001b[0m\u001b[0;34m:\u001b[0m\u001b[0;36m3\u001b[0m\u001b[0;34m]\u001b[0m\u001b[0;34m\u001b[0m\u001b[0;34m\u001b[0m\u001b[0m\n\u001b[0m\u001b[1;32m     25\u001b[0m     de_genes_info=spg.rank_genes_groups(input_adata=adata,\n\u001b[1;32m     26\u001b[0m                                     \u001b[0mtarget_cluster\u001b[0m\u001b[0;34m=\u001b[0m\u001b[0mtarget\u001b[0m\u001b[0;34m,\u001b[0m\u001b[0;34m\u001b[0m\u001b[0;34m\u001b[0m\u001b[0m\n",
      "\u001b[0;31mTypeError\u001b[0m: 'NoneType' object is not subscriptable"
     ]
    }
   ],
   "source": [
    "#Use domain 0 as an example\n",
    "domain_labels = list(range(15))\n",
    "\n",
    "#Set filtering criterials\n",
    "min_in_group_fraction=0.8\n",
    "min_in_out_group_ratio=1\n",
    "min_fold_change=1.5\n",
    "\n",
    "nonzero_index = (adjacency_matrix!=0)\n",
    "#Search radius such that each spot in the target domain has approximately 10 neighbors on average\n",
    "start, end = np.quantile(adjacency_matrix[nonzero_index],q=0.001), np.quantile(adjacency_matrix[nonzero_index], q=0.1)\n",
    "SVGs = []\n",
    "for target in domain_labels:\n",
    "    r=search_radius(target_cluster=target, cell_id=adata.obs.index.tolist(), adj=adjacency_matrix, x=x, y=y, pred=adata.obs[\"pred\"].tolist(), start=start, end=end, num_min=10, num_max=14,  max_run=100)\n",
    "    #Detect neighboring domains\n",
    "    nbr_domians=spg.find_neighbor_clusters(target_cluster=target,\n",
    "                                       cell_id=adata.obs.index.tolist(), \n",
    "                                       x=adata.obs[\"x_pixel\"].tolist(), \n",
    "                                       y=adata.obs[\"y_pixel\"].tolist(), \n",
    "                                       pred=adata.obs[\"pred\"].tolist(),\n",
    "                                       radius=r * 2,\n",
    "                                       ratio=1/2)\n",
    "\n",
    "    nbr_domians=nbr_domians[0:3]\n",
    "    de_genes_info=spg.rank_genes_groups(input_adata=adata,\n",
    "                                    target_cluster=target,\n",
    "                                    nbr_list=nbr_domians, \n",
    "                                    label_col=\"pred\", \n",
    "                                    adj_nbr=True, \n",
    "                                    log=True)\n",
    "    #Filter genes\n",
    "    de_genes_info=de_genes_info[(de_genes_info[\"pvals_adj\"]<0.05)]\n",
    "    filtered_info=de_genes_info\n",
    "    filtered_info=filtered_info[(filtered_info[\"pvals_adj\"]<0.05) &\n",
    "                                (filtered_info[\"in_out_group_ratio\"]>min_in_out_group_ratio) &\n",
    "                                (filtered_info[\"in_group_fraction\"]>min_in_group_fraction) &\n",
    "                                (filtered_info[\"fold_change\"]>min_fold_change)]\n",
    "    filtered_info=filtered_info.sort_values(by=\"in_group_fraction\", ascending=False)\n",
    "    filtered_info[\"target_dmain\"]=target\n",
    "    filtered_info[\"neighbors\"]=str(nbr_domians)\n",
    "    print(\"SVGs for domain \", str(target),\":\", filtered_info[\"genes\"].tolist())\n",
    "    SVGs.append(filtered_info[\"genes\"].tolist())"
   ]
  },
  {
   "cell_type": "code",
   "execution_count": 48,
   "id": "e133a217",
   "metadata": {},
   "outputs": [
    {
     "ename": "ValueError",
     "evalue": "Wrong number of items passed 0, placement implies 1",
     "output_type": "error",
     "traceback": [
      "\u001b[0;31m---------------------------------------------------------------------------\u001b[0m",
      "\u001b[0;31mKeyError\u001b[0m                                  Traceback (most recent call last)",
      "\u001b[0;32m~/bin/miniconda3/envs/multimodal/lib/python3.8/site-packages/pandas/core/indexes/base.py\u001b[0m in \u001b[0;36mget_loc\u001b[0;34m(self, key, method, tolerance)\u001b[0m\n\u001b[1;32m   3360\u001b[0m             \u001b[0;32mtry\u001b[0m\u001b[0;34m:\u001b[0m\u001b[0;34m\u001b[0m\u001b[0;34m\u001b[0m\u001b[0m\n\u001b[0;32m-> 3361\u001b[0;31m                 \u001b[0;32mreturn\u001b[0m \u001b[0mself\u001b[0m\u001b[0;34m.\u001b[0m\u001b[0m_engine\u001b[0m\u001b[0;34m.\u001b[0m\u001b[0mget_loc\u001b[0m\u001b[0;34m(\u001b[0m\u001b[0mcasted_key\u001b[0m\u001b[0;34m)\u001b[0m\u001b[0;34m\u001b[0m\u001b[0;34m\u001b[0m\u001b[0m\n\u001b[0m\u001b[1;32m   3362\u001b[0m             \u001b[0;32mexcept\u001b[0m \u001b[0mKeyError\u001b[0m \u001b[0;32mas\u001b[0m \u001b[0merr\u001b[0m\u001b[0;34m:\u001b[0m\u001b[0;34m\u001b[0m\u001b[0;34m\u001b[0m\u001b[0m\n",
      "\u001b[0;32m~/bin/miniconda3/envs/multimodal/lib/python3.8/site-packages/pandas/_libs/index.pyx\u001b[0m in \u001b[0;36mpandas._libs.index.IndexEngine.get_loc\u001b[0;34m()\u001b[0m\n",
      "\u001b[0;32m~/bin/miniconda3/envs/multimodal/lib/python3.8/site-packages/pandas/_libs/index.pyx\u001b[0m in \u001b[0;36mpandas._libs.index.IndexEngine.get_loc\u001b[0;34m()\u001b[0m\n",
      "\u001b[0;32mpandas/_libs/hashtable_class_helper.pxi\u001b[0m in \u001b[0;36mpandas._libs.hashtable.PyObjectHashTable.get_item\u001b[0;34m()\u001b[0m\n",
      "\u001b[0;32mpandas/_libs/hashtable_class_helper.pxi\u001b[0m in \u001b[0;36mpandas._libs.hashtable.PyObjectHashTable.get_item\u001b[0;34m()\u001b[0m\n",
      "\u001b[0;31mKeyError\u001b[0m: 'meta'",
      "\nThe above exception was the direct cause of the following exception:\n",
      "\u001b[0;31mKeyError\u001b[0m                                  Traceback (most recent call last)",
      "\u001b[0;32m~/bin/miniconda3/envs/multimodal/lib/python3.8/site-packages/pandas/core/frame.py\u001b[0m in \u001b[0;36m_set_item_mgr\u001b[0;34m(self, key, value)\u001b[0m\n\u001b[1;32m   3745\u001b[0m         \u001b[0;32mtry\u001b[0m\u001b[0;34m:\u001b[0m\u001b[0;34m\u001b[0m\u001b[0;34m\u001b[0m\u001b[0m\n\u001b[0;32m-> 3746\u001b[0;31m             \u001b[0mloc\u001b[0m \u001b[0;34m=\u001b[0m \u001b[0mself\u001b[0m\u001b[0;34m.\u001b[0m\u001b[0m_info_axis\u001b[0m\u001b[0;34m.\u001b[0m\u001b[0mget_loc\u001b[0m\u001b[0;34m(\u001b[0m\u001b[0mkey\u001b[0m\u001b[0;34m)\u001b[0m\u001b[0;34m\u001b[0m\u001b[0;34m\u001b[0m\u001b[0m\n\u001b[0m\u001b[1;32m   3747\u001b[0m         \u001b[0;32mexcept\u001b[0m \u001b[0mKeyError\u001b[0m\u001b[0;34m:\u001b[0m\u001b[0;34m\u001b[0m\u001b[0;34m\u001b[0m\u001b[0m\n",
      "\u001b[0;32m~/bin/miniconda3/envs/multimodal/lib/python3.8/site-packages/pandas/core/indexes/base.py\u001b[0m in \u001b[0;36mget_loc\u001b[0;34m(self, key, method, tolerance)\u001b[0m\n\u001b[1;32m   3362\u001b[0m             \u001b[0;32mexcept\u001b[0m \u001b[0mKeyError\u001b[0m \u001b[0;32mas\u001b[0m \u001b[0merr\u001b[0m\u001b[0;34m:\u001b[0m\u001b[0;34m\u001b[0m\u001b[0;34m\u001b[0m\u001b[0m\n\u001b[0;32m-> 3363\u001b[0;31m                 \u001b[0;32mraise\u001b[0m \u001b[0mKeyError\u001b[0m\u001b[0;34m(\u001b[0m\u001b[0mkey\u001b[0m\u001b[0;34m)\u001b[0m \u001b[0;32mfrom\u001b[0m \u001b[0merr\u001b[0m\u001b[0;34m\u001b[0m\u001b[0;34m\u001b[0m\u001b[0m\n\u001b[0m\u001b[1;32m   3364\u001b[0m \u001b[0;34m\u001b[0m\u001b[0m\n",
      "\u001b[0;31mKeyError\u001b[0m: 'meta'",
      "\nDuring handling of the above exception, another exception occurred:\n",
      "\u001b[0;31mValueError\u001b[0m                                Traceback (most recent call last)",
      "\u001b[0;32m<ipython-input-48-05b6957a313a>\u001b[0m in \u001b[0;36m<module>\u001b[0;34m\u001b[0m\n\u001b[1;32m      1\u001b[0m \u001b[0mtarget\u001b[0m\u001b[0;34m=\u001b[0m\u001b[0;36m1\u001b[0m\u001b[0;34m\u001b[0m\u001b[0;34m\u001b[0m\u001b[0m\n\u001b[0;32m----> 2\u001b[0;31m meta_name, meta_exp = spg.find_meta_gene(input_adata=adata,\n\u001b[0m\u001b[1;32m      3\u001b[0m                     \u001b[0mpred\u001b[0m\u001b[0;34m=\u001b[0m\u001b[0madata\u001b[0m\u001b[0;34m.\u001b[0m\u001b[0mobs\u001b[0m\u001b[0;34m[\u001b[0m\u001b[0;34m\"pred\"\u001b[0m\u001b[0;34m]\u001b[0m\u001b[0;34m.\u001b[0m\u001b[0mtolist\u001b[0m\u001b[0;34m(\u001b[0m\u001b[0;34m)\u001b[0m\u001b[0;34m,\u001b[0m\u001b[0;34m\u001b[0m\u001b[0;34m\u001b[0m\u001b[0m\n\u001b[1;32m      4\u001b[0m                     \u001b[0mtarget_domain\u001b[0m\u001b[0;34m=\u001b[0m\u001b[0mtarget\u001b[0m\u001b[0;34m,\u001b[0m\u001b[0;34m\u001b[0m\u001b[0;34m\u001b[0m\u001b[0m\n\u001b[1;32m      5\u001b[0m                     \u001b[0mstart_gene\u001b[0m\u001b[0;34m=\u001b[0m\u001b[0;34m\"GFAP\"\u001b[0m\u001b[0;34m,\u001b[0m\u001b[0;34m\u001b[0m\u001b[0;34m\u001b[0m\u001b[0m\n",
      "\u001b[0;32m~/bin/miniconda3/envs/multimodal/lib/python3.8/site-packages/SpaGCN-1.2.0-py3.8.egg/SpaGCN/util.py\u001b[0m in \u001b[0;36mfind_meta_gene\u001b[0;34m(input_adata, pred, target_domain, start_gene, mean_diff, early_stop, max_iter, use_raw)\u001b[0m\n\u001b[1;32m    207\u001b[0m     \u001b[0mmeta_name\u001b[0m\u001b[0;34m=\u001b[0m\u001b[0mstart_gene\u001b[0m\u001b[0;34m\u001b[0m\u001b[0;34m\u001b[0m\u001b[0m\n\u001b[1;32m    208\u001b[0m     \u001b[0madata\u001b[0m\u001b[0;34m=\u001b[0m\u001b[0minput_adata\u001b[0m\u001b[0;34m.\u001b[0m\u001b[0mcopy\u001b[0m\u001b[0;34m(\u001b[0m\u001b[0;34m)\u001b[0m\u001b[0;34m\u001b[0m\u001b[0;34m\u001b[0m\u001b[0m\n\u001b[0;32m--> 209\u001b[0;31m     \u001b[0madata\u001b[0m\u001b[0;34m.\u001b[0m\u001b[0mobs\u001b[0m\u001b[0;34m[\u001b[0m\u001b[0;34m\"meta\"\u001b[0m\u001b[0;34m]\u001b[0m\u001b[0;34m=\u001b[0m\u001b[0madata\u001b[0m\u001b[0;34m.\u001b[0m\u001b[0mX\u001b[0m\u001b[0;34m[\u001b[0m\u001b[0;34m:\u001b[0m\u001b[0;34m,\u001b[0m\u001b[0madata\u001b[0m\u001b[0;34m.\u001b[0m\u001b[0mvar\u001b[0m\u001b[0;34m.\u001b[0m\u001b[0mindex\u001b[0m\u001b[0;34m==\u001b[0m\u001b[0mstart_gene\u001b[0m\u001b[0;34m]\u001b[0m\u001b[0;34m\u001b[0m\u001b[0;34m\u001b[0m\u001b[0m\n\u001b[0m\u001b[1;32m    210\u001b[0m     \u001b[0madata\u001b[0m\u001b[0;34m.\u001b[0m\u001b[0mobs\u001b[0m\u001b[0;34m[\u001b[0m\u001b[0;34m\"pred\"\u001b[0m\u001b[0;34m]\u001b[0m\u001b[0;34m=\u001b[0m\u001b[0mpred\u001b[0m\u001b[0;34m\u001b[0m\u001b[0;34m\u001b[0m\u001b[0m\n\u001b[1;32m    211\u001b[0m     \u001b[0mnum_non_target\u001b[0m\u001b[0;34m=\u001b[0m\u001b[0madata\u001b[0m\u001b[0;34m.\u001b[0m\u001b[0mshape\u001b[0m\u001b[0;34m[\u001b[0m\u001b[0;36m0\u001b[0m\u001b[0;34m]\u001b[0m\u001b[0;34m\u001b[0m\u001b[0;34m\u001b[0m\u001b[0m\n",
      "\u001b[0;32m~/bin/miniconda3/envs/multimodal/lib/python3.8/site-packages/pandas/core/frame.py\u001b[0m in \u001b[0;36m__setitem__\u001b[0;34m(self, key, value)\u001b[0m\n\u001b[1;32m   3605\u001b[0m         \u001b[0;32melse\u001b[0m\u001b[0;34m:\u001b[0m\u001b[0;34m\u001b[0m\u001b[0;34m\u001b[0m\u001b[0m\n\u001b[1;32m   3606\u001b[0m             \u001b[0;31m# set column\u001b[0m\u001b[0;34m\u001b[0m\u001b[0;34m\u001b[0m\u001b[0;34m\u001b[0m\u001b[0m\n\u001b[0;32m-> 3607\u001b[0;31m             \u001b[0mself\u001b[0m\u001b[0;34m.\u001b[0m\u001b[0m_set_item\u001b[0m\u001b[0;34m(\u001b[0m\u001b[0mkey\u001b[0m\u001b[0;34m,\u001b[0m \u001b[0mvalue\u001b[0m\u001b[0;34m)\u001b[0m\u001b[0;34m\u001b[0m\u001b[0;34m\u001b[0m\u001b[0m\n\u001b[0m\u001b[1;32m   3608\u001b[0m \u001b[0;34m\u001b[0m\u001b[0m\n\u001b[1;32m   3609\u001b[0m     \u001b[0;32mdef\u001b[0m \u001b[0m_setitem_slice\u001b[0m\u001b[0;34m(\u001b[0m\u001b[0mself\u001b[0m\u001b[0;34m,\u001b[0m \u001b[0mkey\u001b[0m\u001b[0;34m:\u001b[0m \u001b[0mslice\u001b[0m\u001b[0;34m,\u001b[0m \u001b[0mvalue\u001b[0m\u001b[0;34m)\u001b[0m\u001b[0;34m:\u001b[0m\u001b[0;34m\u001b[0m\u001b[0;34m\u001b[0m\u001b[0m\n",
      "\u001b[0;32m~/bin/miniconda3/envs/multimodal/lib/python3.8/site-packages/pandas/core/frame.py\u001b[0m in \u001b[0;36m_set_item\u001b[0;34m(self, key, value)\u001b[0m\n\u001b[1;32m   3790\u001b[0m                     \u001b[0mvalue\u001b[0m \u001b[0;34m=\u001b[0m \u001b[0mnp\u001b[0m\u001b[0;34m.\u001b[0m\u001b[0mtile\u001b[0m\u001b[0;34m(\u001b[0m\u001b[0mvalue\u001b[0m\u001b[0;34m,\u001b[0m \u001b[0;34m(\u001b[0m\u001b[0mlen\u001b[0m\u001b[0;34m(\u001b[0m\u001b[0mexisting_piece\u001b[0m\u001b[0;34m.\u001b[0m\u001b[0mcolumns\u001b[0m\u001b[0;34m)\u001b[0m\u001b[0;34m,\u001b[0m \u001b[0;36m1\u001b[0m\u001b[0;34m)\u001b[0m\u001b[0;34m)\u001b[0m\u001b[0;34m.\u001b[0m\u001b[0mT\u001b[0m\u001b[0;34m\u001b[0m\u001b[0;34m\u001b[0m\u001b[0m\n\u001b[1;32m   3791\u001b[0m \u001b[0;34m\u001b[0m\u001b[0m\n\u001b[0;32m-> 3792\u001b[0;31m         \u001b[0mself\u001b[0m\u001b[0;34m.\u001b[0m\u001b[0m_set_item_mgr\u001b[0m\u001b[0;34m(\u001b[0m\u001b[0mkey\u001b[0m\u001b[0;34m,\u001b[0m \u001b[0mvalue\u001b[0m\u001b[0;34m)\u001b[0m\u001b[0;34m\u001b[0m\u001b[0;34m\u001b[0m\u001b[0m\n\u001b[0m\u001b[1;32m   3793\u001b[0m \u001b[0;34m\u001b[0m\u001b[0m\n\u001b[1;32m   3794\u001b[0m     def _set_value(\n",
      "\u001b[0;32m~/bin/miniconda3/envs/multimodal/lib/python3.8/site-packages/pandas/core/frame.py\u001b[0m in \u001b[0;36m_set_item_mgr\u001b[0;34m(self, key, value)\u001b[0m\n\u001b[1;32m   3747\u001b[0m         \u001b[0;32mexcept\u001b[0m \u001b[0mKeyError\u001b[0m\u001b[0;34m:\u001b[0m\u001b[0;34m\u001b[0m\u001b[0;34m\u001b[0m\u001b[0m\n\u001b[1;32m   3748\u001b[0m             \u001b[0;31m# This item wasn't present, just insert at end\u001b[0m\u001b[0;34m\u001b[0m\u001b[0;34m\u001b[0m\u001b[0;34m\u001b[0m\u001b[0m\n\u001b[0;32m-> 3749\u001b[0;31m             \u001b[0mself\u001b[0m\u001b[0;34m.\u001b[0m\u001b[0m_mgr\u001b[0m\u001b[0;34m.\u001b[0m\u001b[0minsert\u001b[0m\u001b[0;34m(\u001b[0m\u001b[0mlen\u001b[0m\u001b[0;34m(\u001b[0m\u001b[0mself\u001b[0m\u001b[0;34m.\u001b[0m\u001b[0m_info_axis\u001b[0m\u001b[0;34m)\u001b[0m\u001b[0;34m,\u001b[0m \u001b[0mkey\u001b[0m\u001b[0;34m,\u001b[0m \u001b[0mvalue\u001b[0m\u001b[0;34m)\u001b[0m\u001b[0;34m\u001b[0m\u001b[0;34m\u001b[0m\u001b[0m\n\u001b[0m\u001b[1;32m   3750\u001b[0m         \u001b[0;32melse\u001b[0m\u001b[0;34m:\u001b[0m\u001b[0;34m\u001b[0m\u001b[0;34m\u001b[0m\u001b[0m\n\u001b[1;32m   3751\u001b[0m             \u001b[0mself\u001b[0m\u001b[0;34m.\u001b[0m\u001b[0m_iset_item_mgr\u001b[0m\u001b[0;34m(\u001b[0m\u001b[0mloc\u001b[0m\u001b[0;34m,\u001b[0m \u001b[0mvalue\u001b[0m\u001b[0;34m)\u001b[0m\u001b[0;34m\u001b[0m\u001b[0;34m\u001b[0m\u001b[0m\n",
      "\u001b[0;32m~/bin/miniconda3/envs/multimodal/lib/python3.8/site-packages/pandas/core/internals/managers.py\u001b[0m in \u001b[0;36minsert\u001b[0;34m(self, loc, item, value)\u001b[0m\n\u001b[1;32m   1153\u001b[0m             \u001b[0mvalue\u001b[0m \u001b[0;34m=\u001b[0m \u001b[0mensure_block_shape\u001b[0m\u001b[0;34m(\u001b[0m\u001b[0mvalue\u001b[0m\u001b[0;34m,\u001b[0m \u001b[0mndim\u001b[0m\u001b[0;34m=\u001b[0m\u001b[0mself\u001b[0m\u001b[0;34m.\u001b[0m\u001b[0mndim\u001b[0m\u001b[0;34m)\u001b[0m\u001b[0;34m\u001b[0m\u001b[0;34m\u001b[0m\u001b[0m\n\u001b[1;32m   1154\u001b[0m \u001b[0;34m\u001b[0m\u001b[0m\n\u001b[0;32m-> 1155\u001b[0;31m         \u001b[0mblock\u001b[0m \u001b[0;34m=\u001b[0m \u001b[0mnew_block\u001b[0m\u001b[0;34m(\u001b[0m\u001b[0mvalues\u001b[0m\u001b[0;34m=\u001b[0m\u001b[0mvalue\u001b[0m\u001b[0;34m,\u001b[0m \u001b[0mndim\u001b[0m\u001b[0;34m=\u001b[0m\u001b[0mself\u001b[0m\u001b[0;34m.\u001b[0m\u001b[0mndim\u001b[0m\u001b[0;34m,\u001b[0m \u001b[0mplacement\u001b[0m\u001b[0;34m=\u001b[0m\u001b[0mslice\u001b[0m\u001b[0;34m(\u001b[0m\u001b[0mloc\u001b[0m\u001b[0;34m,\u001b[0m \u001b[0mloc\u001b[0m \u001b[0;34m+\u001b[0m \u001b[0;36m1\u001b[0m\u001b[0;34m)\u001b[0m\u001b[0;34m)\u001b[0m\u001b[0;34m\u001b[0m\u001b[0;34m\u001b[0m\u001b[0m\n\u001b[0m\u001b[1;32m   1156\u001b[0m \u001b[0;34m\u001b[0m\u001b[0m\n\u001b[1;32m   1157\u001b[0m         \u001b[0;32mfor\u001b[0m \u001b[0mblkno\u001b[0m\u001b[0;34m,\u001b[0m \u001b[0mcount\u001b[0m \u001b[0;32min\u001b[0m \u001b[0m_fast_count_smallints\u001b[0m\u001b[0;34m(\u001b[0m\u001b[0mself\u001b[0m\u001b[0;34m.\u001b[0m\u001b[0mblknos\u001b[0m\u001b[0;34m[\u001b[0m\u001b[0mloc\u001b[0m\u001b[0;34m:\u001b[0m\u001b[0;34m]\u001b[0m\u001b[0;34m)\u001b[0m\u001b[0;34m:\u001b[0m\u001b[0;34m\u001b[0m\u001b[0;34m\u001b[0m\u001b[0m\n",
      "\u001b[0;32m~/bin/miniconda3/envs/multimodal/lib/python3.8/site-packages/pandas/core/internals/blocks.py\u001b[0m in \u001b[0;36mnew_block\u001b[0;34m(values, placement, ndim, klass)\u001b[0m\n\u001b[1;32m   1920\u001b[0m \u001b[0;34m\u001b[0m\u001b[0m\n\u001b[1;32m   1921\u001b[0m     \u001b[0mvalues\u001b[0m\u001b[0;34m,\u001b[0m \u001b[0m_\u001b[0m \u001b[0;34m=\u001b[0m \u001b[0mextract_pandas_array\u001b[0m\u001b[0;34m(\u001b[0m\u001b[0mvalues\u001b[0m\u001b[0;34m,\u001b[0m \u001b[0;32mNone\u001b[0m\u001b[0;34m,\u001b[0m \u001b[0mndim\u001b[0m\u001b[0;34m)\u001b[0m\u001b[0;34m\u001b[0m\u001b[0;34m\u001b[0m\u001b[0m\n\u001b[0;32m-> 1922\u001b[0;31m     \u001b[0mcheck_ndim\u001b[0m\u001b[0;34m(\u001b[0m\u001b[0mvalues\u001b[0m\u001b[0;34m,\u001b[0m \u001b[0mplacement\u001b[0m\u001b[0;34m,\u001b[0m \u001b[0mndim\u001b[0m\u001b[0;34m)\u001b[0m\u001b[0;34m\u001b[0m\u001b[0;34m\u001b[0m\u001b[0m\n\u001b[0m\u001b[1;32m   1923\u001b[0m \u001b[0;34m\u001b[0m\u001b[0m\n\u001b[1;32m   1924\u001b[0m     \u001b[0;32mif\u001b[0m \u001b[0mklass\u001b[0m \u001b[0;32mis\u001b[0m \u001b[0;32mNone\u001b[0m\u001b[0;34m:\u001b[0m\u001b[0;34m\u001b[0m\u001b[0;34m\u001b[0m\u001b[0m\n",
      "\u001b[0;32m~/bin/miniconda3/envs/multimodal/lib/python3.8/site-packages/pandas/core/internals/blocks.py\u001b[0m in \u001b[0;36mcheck_ndim\u001b[0;34m(values, placement, ndim)\u001b[0m\n\u001b[1;32m   1962\u001b[0m             )\n\u001b[1;32m   1963\u001b[0m         \u001b[0;32mif\u001b[0m \u001b[0mlen\u001b[0m\u001b[0;34m(\u001b[0m\u001b[0mplacement\u001b[0m\u001b[0;34m)\u001b[0m \u001b[0;34m!=\u001b[0m \u001b[0mlen\u001b[0m\u001b[0;34m(\u001b[0m\u001b[0mvalues\u001b[0m\u001b[0;34m)\u001b[0m\u001b[0;34m:\u001b[0m\u001b[0;34m\u001b[0m\u001b[0;34m\u001b[0m\u001b[0m\n\u001b[0;32m-> 1964\u001b[0;31m             raise ValueError(\n\u001b[0m\u001b[1;32m   1965\u001b[0m                 \u001b[0;34mf\"Wrong number of items passed {len(values)}, \"\u001b[0m\u001b[0;34m\u001b[0m\u001b[0;34m\u001b[0m\u001b[0m\n\u001b[1;32m   1966\u001b[0m                 \u001b[0;34mf\"placement implies {len(placement)}\"\u001b[0m\u001b[0;34m\u001b[0m\u001b[0;34m\u001b[0m\u001b[0m\n",
      "\u001b[0;31mValueError\u001b[0m: Wrong number of items passed 0, placement implies 1"
     ]
    }
   ],
   "source": [
    "target=1\n",
    "meta_name, meta_exp = spg.find_meta_gene(input_adata=adata,\n",
    "                    pred=adata.obs[\"pred\"].tolist(),\n",
    "                    target_domain=target,\n",
    "                    start_gene=\"GFAP\",\n",
    "                    mean_diff=0,\n",
    "                    early_stop=True,\n",
    "                    max_iter=3,\n",
    "                    use_raw=False)\n",
    "\n",
    "adata.obs[\"meta\"] = meta_exp"
   ]
  },
  {
   "cell_type": "code",
   "execution_count": 49,
   "id": "bd8281bc",
   "metadata": {},
   "outputs": [
    {
     "ename": "ValueError",
     "evalue": "Wrong number of items passed 0, placement implies 1",
     "output_type": "error",
     "traceback": [
      "\u001b[0;31m---------------------------------------------------------------------------\u001b[0m",
      "\u001b[0;31mKeyError\u001b[0m                                  Traceback (most recent call last)",
      "\u001b[0;32m~/bin/miniconda3/envs/multimodal/lib/python3.8/site-packages/pandas/core/indexes/base.py\u001b[0m in \u001b[0;36mget_loc\u001b[0;34m(self, key, method, tolerance)\u001b[0m\n\u001b[1;32m   3360\u001b[0m             \u001b[0;32mtry\u001b[0m\u001b[0;34m:\u001b[0m\u001b[0;34m\u001b[0m\u001b[0;34m\u001b[0m\u001b[0m\n\u001b[0;32m-> 3361\u001b[0;31m                 \u001b[0;32mreturn\u001b[0m \u001b[0mself\u001b[0m\u001b[0;34m.\u001b[0m\u001b[0m_engine\u001b[0m\u001b[0;34m.\u001b[0m\u001b[0mget_loc\u001b[0m\u001b[0;34m(\u001b[0m\u001b[0mcasted_key\u001b[0m\u001b[0;34m)\u001b[0m\u001b[0;34m\u001b[0m\u001b[0;34m\u001b[0m\u001b[0m\n\u001b[0m\u001b[1;32m   3362\u001b[0m             \u001b[0;32mexcept\u001b[0m \u001b[0mKeyError\u001b[0m \u001b[0;32mas\u001b[0m \u001b[0merr\u001b[0m\u001b[0;34m:\u001b[0m\u001b[0;34m\u001b[0m\u001b[0;34m\u001b[0m\u001b[0m\n",
      "\u001b[0;32m~/bin/miniconda3/envs/multimodal/lib/python3.8/site-packages/pandas/_libs/index.pyx\u001b[0m in \u001b[0;36mpandas._libs.index.IndexEngine.get_loc\u001b[0;34m()\u001b[0m\n",
      "\u001b[0;32m~/bin/miniconda3/envs/multimodal/lib/python3.8/site-packages/pandas/_libs/index.pyx\u001b[0m in \u001b[0;36mpandas._libs.index.IndexEngine.get_loc\u001b[0;34m()\u001b[0m\n",
      "\u001b[0;32mpandas/_libs/hashtable_class_helper.pxi\u001b[0m in \u001b[0;36mpandas._libs.hashtable.PyObjectHashTable.get_item\u001b[0;34m()\u001b[0m\n",
      "\u001b[0;32mpandas/_libs/hashtable_class_helper.pxi\u001b[0m in \u001b[0;36mpandas._libs.hashtable.PyObjectHashTable.get_item\u001b[0;34m()\u001b[0m\n",
      "\u001b[0;31mKeyError\u001b[0m: 'exp'",
      "\nThe above exception was the direct cause of the following exception:\n",
      "\u001b[0;31mKeyError\u001b[0m                                  Traceback (most recent call last)",
      "\u001b[0;32m~/bin/miniconda3/envs/multimodal/lib/python3.8/site-packages/pandas/core/frame.py\u001b[0m in \u001b[0;36m_set_item_mgr\u001b[0;34m(self, key, value)\u001b[0m\n\u001b[1;32m   3745\u001b[0m         \u001b[0;32mtry\u001b[0m\u001b[0;34m:\u001b[0m\u001b[0;34m\u001b[0m\u001b[0;34m\u001b[0m\u001b[0m\n\u001b[0;32m-> 3746\u001b[0;31m             \u001b[0mloc\u001b[0m \u001b[0;34m=\u001b[0m \u001b[0mself\u001b[0m\u001b[0;34m.\u001b[0m\u001b[0m_info_axis\u001b[0m\u001b[0;34m.\u001b[0m\u001b[0mget_loc\u001b[0m\u001b[0;34m(\u001b[0m\u001b[0mkey\u001b[0m\u001b[0;34m)\u001b[0m\u001b[0;34m\u001b[0m\u001b[0;34m\u001b[0m\u001b[0m\n\u001b[0m\u001b[1;32m   3747\u001b[0m         \u001b[0;32mexcept\u001b[0m \u001b[0mKeyError\u001b[0m\u001b[0;34m:\u001b[0m\u001b[0;34m\u001b[0m\u001b[0;34m\u001b[0m\u001b[0m\n",
      "\u001b[0;32m~/bin/miniconda3/envs/multimodal/lib/python3.8/site-packages/pandas/core/indexes/base.py\u001b[0m in \u001b[0;36mget_loc\u001b[0;34m(self, key, method, tolerance)\u001b[0m\n\u001b[1;32m   3362\u001b[0m             \u001b[0;32mexcept\u001b[0m \u001b[0mKeyError\u001b[0m \u001b[0;32mas\u001b[0m \u001b[0merr\u001b[0m\u001b[0;34m:\u001b[0m\u001b[0;34m\u001b[0m\u001b[0;34m\u001b[0m\u001b[0m\n\u001b[0;32m-> 3363\u001b[0;31m                 \u001b[0;32mraise\u001b[0m \u001b[0mKeyError\u001b[0m\u001b[0;34m(\u001b[0m\u001b[0mkey\u001b[0m\u001b[0;34m)\u001b[0m \u001b[0;32mfrom\u001b[0m \u001b[0merr\u001b[0m\u001b[0;34m\u001b[0m\u001b[0;34m\u001b[0m\u001b[0m\n\u001b[0m\u001b[1;32m   3364\u001b[0m \u001b[0;34m\u001b[0m\u001b[0m\n",
      "\u001b[0;31mKeyError\u001b[0m: 'exp'",
      "\nDuring handling of the above exception, another exception occurred:\n",
      "\u001b[0;31mValueError\u001b[0m                                Traceback (most recent call last)",
      "\u001b[0;32m<ipython-input-49-7608189ad72c>\u001b[0m in \u001b[0;36m<module>\u001b[0;34m\u001b[0m\n\u001b[1;32m      3\u001b[0m \u001b[0;31m#Plot meta gene\u001b[0m\u001b[0;34m\u001b[0m\u001b[0;34m\u001b[0m\u001b[0;34m\u001b[0m\u001b[0m\n\u001b[1;32m      4\u001b[0m \u001b[0mgene\u001b[0m \u001b[0;34m=\u001b[0m \u001b[0;34m\"GFAP\"\u001b[0m\u001b[0;34m\u001b[0m\u001b[0;34m\u001b[0m\u001b[0m\n\u001b[0;32m----> 5\u001b[0;31m \u001b[0madata\u001b[0m\u001b[0;34m.\u001b[0m\u001b[0mobs\u001b[0m\u001b[0;34m[\u001b[0m\u001b[0;34m\"exp\"\u001b[0m\u001b[0;34m]\u001b[0m \u001b[0;34m=\u001b[0m \u001b[0madata\u001b[0m\u001b[0;34m.\u001b[0m\u001b[0mX\u001b[0m\u001b[0;34m[\u001b[0m\u001b[0;34m:\u001b[0m\u001b[0;34m,\u001b[0m \u001b[0madata\u001b[0m\u001b[0;34m.\u001b[0m\u001b[0mvar\u001b[0m\u001b[0;34m.\u001b[0m\u001b[0mindex\u001b[0m \u001b[0;34m==\u001b[0m \u001b[0mgene\u001b[0m\u001b[0;34m]\u001b[0m\u001b[0;34m\u001b[0m\u001b[0;34m\u001b[0m\u001b[0m\n\u001b[0m\u001b[1;32m      6\u001b[0m \u001b[0max\u001b[0m \u001b[0;34m=\u001b[0m \u001b[0msc\u001b[0m\u001b[0;34m.\u001b[0m\u001b[0mpl\u001b[0m\u001b[0;34m.\u001b[0m\u001b[0mscatter\u001b[0m\u001b[0;34m(\u001b[0m\u001b[0madata\u001b[0m\u001b[0;34m,\u001b[0m \u001b[0malpha\u001b[0m\u001b[0;34m=\u001b[0m\u001b[0;36m1\u001b[0m\u001b[0;34m,\u001b[0m \u001b[0mx\u001b[0m\u001b[0;34m=\u001b[0m\u001b[0;34m\"y_pixel\"\u001b[0m\u001b[0;34m,\u001b[0m \u001b[0my\u001b[0m\u001b[0;34m=\u001b[0m\u001b[0;34m\"x_pixel\"\u001b[0m\u001b[0;34m,\u001b[0m \u001b[0mcolor\u001b[0m\u001b[0;34m=\u001b[0m\u001b[0;34m\"exp\"\u001b[0m\u001b[0;34m,\u001b[0m\u001b[0mtitle\u001b[0m\u001b[0;34m=\u001b[0m\u001b[0mgene\u001b[0m\u001b[0;34m,\u001b[0m \u001b[0mcolor_map\u001b[0m\u001b[0;34m=\u001b[0m\u001b[0mcolor_self\u001b[0m\u001b[0;34m,\u001b[0m \u001b[0mshow\u001b[0m\u001b[0;34m=\u001b[0m\u001b[0;32mFalse\u001b[0m\u001b[0;34m,\u001b[0m \u001b[0msize\u001b[0m\u001b[0;34m=\u001b[0m\u001b[0;36m100000\u001b[0m\u001b[0;34m/\u001b[0m\u001b[0madata\u001b[0m\u001b[0;34m.\u001b[0m\u001b[0mshape\u001b[0m\u001b[0;34m[\u001b[0m\u001b[0;36m0\u001b[0m\u001b[0;34m]\u001b[0m\u001b[0;34m)\u001b[0m\u001b[0;34m\u001b[0m\u001b[0;34m\u001b[0m\u001b[0m\n\u001b[1;32m      7\u001b[0m \u001b[0max\u001b[0m\u001b[0;34m.\u001b[0m\u001b[0mset_aspect\u001b[0m\u001b[0;34m(\u001b[0m\u001b[0;34m'equal'\u001b[0m\u001b[0;34m,\u001b[0m \u001b[0;34m'box'\u001b[0m\u001b[0;34m)\u001b[0m\u001b[0;34m\u001b[0m\u001b[0;34m\u001b[0m\u001b[0m\n",
      "\u001b[0;32m~/bin/miniconda3/envs/multimodal/lib/python3.8/site-packages/pandas/core/frame.py\u001b[0m in \u001b[0;36m__setitem__\u001b[0;34m(self, key, value)\u001b[0m\n\u001b[1;32m   3605\u001b[0m         \u001b[0;32melse\u001b[0m\u001b[0;34m:\u001b[0m\u001b[0;34m\u001b[0m\u001b[0;34m\u001b[0m\u001b[0m\n\u001b[1;32m   3606\u001b[0m             \u001b[0;31m# set column\u001b[0m\u001b[0;34m\u001b[0m\u001b[0;34m\u001b[0m\u001b[0;34m\u001b[0m\u001b[0m\n\u001b[0;32m-> 3607\u001b[0;31m             \u001b[0mself\u001b[0m\u001b[0;34m.\u001b[0m\u001b[0m_set_item\u001b[0m\u001b[0;34m(\u001b[0m\u001b[0mkey\u001b[0m\u001b[0;34m,\u001b[0m \u001b[0mvalue\u001b[0m\u001b[0;34m)\u001b[0m\u001b[0;34m\u001b[0m\u001b[0;34m\u001b[0m\u001b[0m\n\u001b[0m\u001b[1;32m   3608\u001b[0m \u001b[0;34m\u001b[0m\u001b[0m\n\u001b[1;32m   3609\u001b[0m     \u001b[0;32mdef\u001b[0m \u001b[0m_setitem_slice\u001b[0m\u001b[0;34m(\u001b[0m\u001b[0mself\u001b[0m\u001b[0;34m,\u001b[0m \u001b[0mkey\u001b[0m\u001b[0;34m:\u001b[0m \u001b[0mslice\u001b[0m\u001b[0;34m,\u001b[0m \u001b[0mvalue\u001b[0m\u001b[0;34m)\u001b[0m\u001b[0;34m:\u001b[0m\u001b[0;34m\u001b[0m\u001b[0;34m\u001b[0m\u001b[0m\n",
      "\u001b[0;32m~/bin/miniconda3/envs/multimodal/lib/python3.8/site-packages/pandas/core/frame.py\u001b[0m in \u001b[0;36m_set_item\u001b[0;34m(self, key, value)\u001b[0m\n\u001b[1;32m   3790\u001b[0m                     \u001b[0mvalue\u001b[0m \u001b[0;34m=\u001b[0m \u001b[0mnp\u001b[0m\u001b[0;34m.\u001b[0m\u001b[0mtile\u001b[0m\u001b[0;34m(\u001b[0m\u001b[0mvalue\u001b[0m\u001b[0;34m,\u001b[0m \u001b[0;34m(\u001b[0m\u001b[0mlen\u001b[0m\u001b[0;34m(\u001b[0m\u001b[0mexisting_piece\u001b[0m\u001b[0;34m.\u001b[0m\u001b[0mcolumns\u001b[0m\u001b[0;34m)\u001b[0m\u001b[0;34m,\u001b[0m \u001b[0;36m1\u001b[0m\u001b[0;34m)\u001b[0m\u001b[0;34m)\u001b[0m\u001b[0;34m.\u001b[0m\u001b[0mT\u001b[0m\u001b[0;34m\u001b[0m\u001b[0;34m\u001b[0m\u001b[0m\n\u001b[1;32m   3791\u001b[0m \u001b[0;34m\u001b[0m\u001b[0m\n\u001b[0;32m-> 3792\u001b[0;31m         \u001b[0mself\u001b[0m\u001b[0;34m.\u001b[0m\u001b[0m_set_item_mgr\u001b[0m\u001b[0;34m(\u001b[0m\u001b[0mkey\u001b[0m\u001b[0;34m,\u001b[0m \u001b[0mvalue\u001b[0m\u001b[0;34m)\u001b[0m\u001b[0;34m\u001b[0m\u001b[0;34m\u001b[0m\u001b[0m\n\u001b[0m\u001b[1;32m   3793\u001b[0m \u001b[0;34m\u001b[0m\u001b[0m\n\u001b[1;32m   3794\u001b[0m     def _set_value(\n",
      "\u001b[0;32m~/bin/miniconda3/envs/multimodal/lib/python3.8/site-packages/pandas/core/frame.py\u001b[0m in \u001b[0;36m_set_item_mgr\u001b[0;34m(self, key, value)\u001b[0m\n\u001b[1;32m   3747\u001b[0m         \u001b[0;32mexcept\u001b[0m \u001b[0mKeyError\u001b[0m\u001b[0;34m:\u001b[0m\u001b[0;34m\u001b[0m\u001b[0;34m\u001b[0m\u001b[0m\n\u001b[1;32m   3748\u001b[0m             \u001b[0;31m# This item wasn't present, just insert at end\u001b[0m\u001b[0;34m\u001b[0m\u001b[0;34m\u001b[0m\u001b[0;34m\u001b[0m\u001b[0m\n\u001b[0;32m-> 3749\u001b[0;31m             \u001b[0mself\u001b[0m\u001b[0;34m.\u001b[0m\u001b[0m_mgr\u001b[0m\u001b[0;34m.\u001b[0m\u001b[0minsert\u001b[0m\u001b[0;34m(\u001b[0m\u001b[0mlen\u001b[0m\u001b[0;34m(\u001b[0m\u001b[0mself\u001b[0m\u001b[0;34m.\u001b[0m\u001b[0m_info_axis\u001b[0m\u001b[0;34m)\u001b[0m\u001b[0;34m,\u001b[0m \u001b[0mkey\u001b[0m\u001b[0;34m,\u001b[0m \u001b[0mvalue\u001b[0m\u001b[0;34m)\u001b[0m\u001b[0;34m\u001b[0m\u001b[0;34m\u001b[0m\u001b[0m\n\u001b[0m\u001b[1;32m   3750\u001b[0m         \u001b[0;32melse\u001b[0m\u001b[0;34m:\u001b[0m\u001b[0;34m\u001b[0m\u001b[0;34m\u001b[0m\u001b[0m\n\u001b[1;32m   3751\u001b[0m             \u001b[0mself\u001b[0m\u001b[0;34m.\u001b[0m\u001b[0m_iset_item_mgr\u001b[0m\u001b[0;34m(\u001b[0m\u001b[0mloc\u001b[0m\u001b[0;34m,\u001b[0m \u001b[0mvalue\u001b[0m\u001b[0;34m)\u001b[0m\u001b[0;34m\u001b[0m\u001b[0;34m\u001b[0m\u001b[0m\n",
      "\u001b[0;32m~/bin/miniconda3/envs/multimodal/lib/python3.8/site-packages/pandas/core/internals/managers.py\u001b[0m in \u001b[0;36minsert\u001b[0;34m(self, loc, item, value)\u001b[0m\n\u001b[1;32m   1153\u001b[0m             \u001b[0mvalue\u001b[0m \u001b[0;34m=\u001b[0m \u001b[0mensure_block_shape\u001b[0m\u001b[0;34m(\u001b[0m\u001b[0mvalue\u001b[0m\u001b[0;34m,\u001b[0m \u001b[0mndim\u001b[0m\u001b[0;34m=\u001b[0m\u001b[0mself\u001b[0m\u001b[0;34m.\u001b[0m\u001b[0mndim\u001b[0m\u001b[0;34m)\u001b[0m\u001b[0;34m\u001b[0m\u001b[0;34m\u001b[0m\u001b[0m\n\u001b[1;32m   1154\u001b[0m \u001b[0;34m\u001b[0m\u001b[0m\n\u001b[0;32m-> 1155\u001b[0;31m         \u001b[0mblock\u001b[0m \u001b[0;34m=\u001b[0m \u001b[0mnew_block\u001b[0m\u001b[0;34m(\u001b[0m\u001b[0mvalues\u001b[0m\u001b[0;34m=\u001b[0m\u001b[0mvalue\u001b[0m\u001b[0;34m,\u001b[0m \u001b[0mndim\u001b[0m\u001b[0;34m=\u001b[0m\u001b[0mself\u001b[0m\u001b[0;34m.\u001b[0m\u001b[0mndim\u001b[0m\u001b[0;34m,\u001b[0m \u001b[0mplacement\u001b[0m\u001b[0;34m=\u001b[0m\u001b[0mslice\u001b[0m\u001b[0;34m(\u001b[0m\u001b[0mloc\u001b[0m\u001b[0;34m,\u001b[0m \u001b[0mloc\u001b[0m \u001b[0;34m+\u001b[0m \u001b[0;36m1\u001b[0m\u001b[0;34m)\u001b[0m\u001b[0;34m)\u001b[0m\u001b[0;34m\u001b[0m\u001b[0;34m\u001b[0m\u001b[0m\n\u001b[0m\u001b[1;32m   1156\u001b[0m \u001b[0;34m\u001b[0m\u001b[0m\n\u001b[1;32m   1157\u001b[0m         \u001b[0;32mfor\u001b[0m \u001b[0mblkno\u001b[0m\u001b[0;34m,\u001b[0m \u001b[0mcount\u001b[0m \u001b[0;32min\u001b[0m \u001b[0m_fast_count_smallints\u001b[0m\u001b[0;34m(\u001b[0m\u001b[0mself\u001b[0m\u001b[0;34m.\u001b[0m\u001b[0mblknos\u001b[0m\u001b[0;34m[\u001b[0m\u001b[0mloc\u001b[0m\u001b[0;34m:\u001b[0m\u001b[0;34m]\u001b[0m\u001b[0;34m)\u001b[0m\u001b[0;34m:\u001b[0m\u001b[0;34m\u001b[0m\u001b[0;34m\u001b[0m\u001b[0m\n",
      "\u001b[0;32m~/bin/miniconda3/envs/multimodal/lib/python3.8/site-packages/pandas/core/internals/blocks.py\u001b[0m in \u001b[0;36mnew_block\u001b[0;34m(values, placement, ndim, klass)\u001b[0m\n\u001b[1;32m   1920\u001b[0m \u001b[0;34m\u001b[0m\u001b[0m\n\u001b[1;32m   1921\u001b[0m     \u001b[0mvalues\u001b[0m\u001b[0;34m,\u001b[0m \u001b[0m_\u001b[0m \u001b[0;34m=\u001b[0m \u001b[0mextract_pandas_array\u001b[0m\u001b[0;34m(\u001b[0m\u001b[0mvalues\u001b[0m\u001b[0;34m,\u001b[0m \u001b[0;32mNone\u001b[0m\u001b[0;34m,\u001b[0m \u001b[0mndim\u001b[0m\u001b[0;34m)\u001b[0m\u001b[0;34m\u001b[0m\u001b[0;34m\u001b[0m\u001b[0m\n\u001b[0;32m-> 1922\u001b[0;31m     \u001b[0mcheck_ndim\u001b[0m\u001b[0;34m(\u001b[0m\u001b[0mvalues\u001b[0m\u001b[0;34m,\u001b[0m \u001b[0mplacement\u001b[0m\u001b[0;34m,\u001b[0m \u001b[0mndim\u001b[0m\u001b[0;34m)\u001b[0m\u001b[0;34m\u001b[0m\u001b[0;34m\u001b[0m\u001b[0m\n\u001b[0m\u001b[1;32m   1923\u001b[0m \u001b[0;34m\u001b[0m\u001b[0m\n\u001b[1;32m   1924\u001b[0m     \u001b[0;32mif\u001b[0m \u001b[0mklass\u001b[0m \u001b[0;32mis\u001b[0m \u001b[0;32mNone\u001b[0m\u001b[0;34m:\u001b[0m\u001b[0;34m\u001b[0m\u001b[0;34m\u001b[0m\u001b[0m\n",
      "\u001b[0;32m~/bin/miniconda3/envs/multimodal/lib/python3.8/site-packages/pandas/core/internals/blocks.py\u001b[0m in \u001b[0;36mcheck_ndim\u001b[0;34m(values, placement, ndim)\u001b[0m\n\u001b[1;32m   1962\u001b[0m             )\n\u001b[1;32m   1963\u001b[0m         \u001b[0;32mif\u001b[0m \u001b[0mlen\u001b[0m\u001b[0;34m(\u001b[0m\u001b[0mplacement\u001b[0m\u001b[0;34m)\u001b[0m \u001b[0;34m!=\u001b[0m \u001b[0mlen\u001b[0m\u001b[0;34m(\u001b[0m\u001b[0mvalues\u001b[0m\u001b[0;34m)\u001b[0m\u001b[0;34m:\u001b[0m\u001b[0;34m\u001b[0m\u001b[0;34m\u001b[0m\u001b[0m\n\u001b[0;32m-> 1964\u001b[0;31m             raise ValueError(\n\u001b[0m\u001b[1;32m   1965\u001b[0m                 \u001b[0;34mf\"Wrong number of items passed {len(values)}, \"\u001b[0m\u001b[0;34m\u001b[0m\u001b[0;34m\u001b[0m\u001b[0m\n\u001b[1;32m   1966\u001b[0m                 \u001b[0;34mf\"placement implies {len(placement)}\"\u001b[0m\u001b[0;34m\u001b[0m\u001b[0;34m\u001b[0m\u001b[0m\n",
      "\u001b[0;31mValueError\u001b[0m: Wrong number of items passed 0, placement implies 1"
     ]
    }
   ],
   "source": [
    "color_self = LinearSegmentedColormap.from_list('pink_green', ['#3AB370',\"#EAE7CC\",\"#FD1593\"], N=256)\n",
    "\n",
    "#Plot meta gene\n",
    "gene = \"GFAP\"\n",
    "adata.obs[\"exp\"] = adata.X[:, adata.var.index == gene]\n",
    "ax = sc.pl.scatter(adata, alpha=1, x=\"y_pixel\", y=\"x_pixel\", color=\"exp\",title=gene, color_map=color_self, show=False, size=100000/adata.shape[0])\n",
    "ax.set_aspect('equal', 'box')\n",
    "ax.axes.invert_yaxis()\n",
    "plt.show()\n",
    "plt.close()\n",
    "\n",
    "adata.obs[\"exp\"]=adata.obs[\"meta\"]\n",
    "ax = sc.pl.scatter(adata, alpha=1, x=\"y_pixel\", y=\"x_pixel\", color=\"exp\",title=meta_name,color_map=color_self, show=False,size=100000/adata.shape[0])\n",
    "ax.set_aspect('equal', 'box')\n",
    "ax.axes.invert_yaxis()\n",
    "plt.show()\n",
    "plt.close()"
   ]
  }
 ],
 "metadata": {
  "kernelspec": {
   "display_name": "Python 3",
   "language": "python",
   "name": "python3"
  },
  "language_info": {
   "codemirror_mode": {
    "name": "ipython",
    "version": 3
   },
   "file_extension": ".py",
   "mimetype": "text/x-python",
   "name": "python",
   "nbconvert_exporter": "python",
   "pygments_lexer": "ipython3",
   "version": "3.7.10"
  }
 },
 "nbformat": 4,
 "nbformat_minor": 5
}
